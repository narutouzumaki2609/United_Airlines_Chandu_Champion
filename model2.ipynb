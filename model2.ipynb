{
 "cells": [
  {
   "cell_type": "code",
   "execution_count": 376,
   "metadata": {},
   "outputs": [],
   "source": [
    "import pandas as pd\n",
    "import numpy as np"
   ]
  },
  {
   "cell_type": "code",
   "execution_count": 432,
   "metadata": {},
   "outputs": [],
   "source": [
    "test = pd.read_csv(\"testbc7185d.csv\")"
   ]
  },
  {
   "cell_type": "code",
   "execution_count": 433,
   "metadata": {},
   "outputs": [],
   "source": [
    "df_calls = pd.read_csv(\"callsf0d4f5a.csv\")"
   ]
  },
  {
   "cell_type": "code",
   "execution_count": 434,
   "metadata": {},
   "outputs": [],
   "source": [
    "call_id_fortest = test['call_id']"
   ]
  },
  {
   "cell_type": "code",
   "execution_count": 435,
   "metadata": {},
   "outputs": [],
   "source": [
    "df_reasons = pd.read_csv(\"reason18315ff.csv\")"
   ]
  },
  {
   "cell_type": "code",
   "execution_count": 436,
   "metadata": {},
   "outputs": [],
   "source": [
    "df_sentiments = pd.read_csv(\"sentiment_statisticscc1e57a.csv\")"
   ]
  },
  {
   "cell_type": "code",
   "execution_count": 437,
   "metadata": {},
   "outputs": [],
   "source": [
    "df_customer = pd.read_csv(\"customers2afd6ea.csv\")"
   ]
  },
  {
   "cell_type": "code",
   "execution_count": 438,
   "metadata": {},
   "outputs": [],
   "source": [
    "test = pd.merge(test, df_calls, on='call_id', how='inner') "
   ]
  },
  {
   "cell_type": "code",
   "execution_count": 439,
   "metadata": {},
   "outputs": [],
   "source": [
    "train = pd.merge(df_calls, df_reasons, on='call_id', how='inner') "
   ]
  },
  {
   "cell_type": "code",
   "execution_count": 440,
   "metadata": {},
   "outputs": [],
   "source": [
    "test = pd.merge(test, df_sentiments, on='call_id', how='inner') "
   ]
  },
  {
   "cell_type": "code",
   "execution_count": 441,
   "metadata": {},
   "outputs": [],
   "source": [
    "train_x = pd.merge(train, df_sentiments, on='call_id', how='inner') "
   ]
  },
  {
   "cell_type": "code",
   "execution_count": 442,
   "metadata": {},
   "outputs": [],
   "source": [
    "test = pd.merge(test, df_customer, on='customer_id', how='inner') "
   ]
  },
  {
   "cell_type": "code",
   "execution_count": 443,
   "metadata": {},
   "outputs": [],
   "source": [
    "train_x = pd.merge(train_x, df_customer, on='customer_id', how='inner') "
   ]
  },
  {
   "cell_type": "code",
   "execution_count": 444,
   "metadata": {},
   "outputs": [
    {
     "data": {
      "text/html": [
       "<div>\n",
       "<style scoped>\n",
       "    .dataframe tbody tr th:only-of-type {\n",
       "        vertical-align: middle;\n",
       "    }\n",
       "\n",
       "    .dataframe tbody tr th {\n",
       "        vertical-align: top;\n",
       "    }\n",
       "\n",
       "    .dataframe thead th {\n",
       "        text-align: right;\n",
       "    }\n",
       "</style>\n",
       "<table border=\"1\" class=\"dataframe\">\n",
       "  <thead>\n",
       "    <tr style=\"text-align: right;\">\n",
       "      <th></th>\n",
       "      <th>call_id</th>\n",
       "      <th>customer_id</th>\n",
       "      <th>agent_id_x</th>\n",
       "      <th>call_start_datetime</th>\n",
       "      <th>agent_assigned_datetime</th>\n",
       "      <th>call_end_datetime</th>\n",
       "      <th>call_transcript</th>\n",
       "      <th>primary_call_reason</th>\n",
       "      <th>agent_id_y</th>\n",
       "      <th>agent_tone</th>\n",
       "      <th>customer_tone</th>\n",
       "      <th>average_sentiment</th>\n",
       "      <th>silence_percent_average</th>\n",
       "      <th>customer_name</th>\n",
       "      <th>elite_level_code</th>\n",
       "    </tr>\n",
       "  </thead>\n",
       "  <tbody>\n",
       "    <tr>\n",
       "      <th>0</th>\n",
       "      <td>4667960400</td>\n",
       "      <td>2033123310</td>\n",
       "      <td>963118</td>\n",
       "      <td>7/31/2024 23:56</td>\n",
       "      <td>8/1/2024 0:03</td>\n",
       "      <td>8/1/2024 0:34</td>\n",
       "      <td>\\n\\nAgent: Thank you for calling United Airlin...</td>\n",
       "      <td>Voluntary  Cancel</td>\n",
       "      <td>963118</td>\n",
       "      <td>neutral</td>\n",
       "      <td>angry</td>\n",
       "      <td>-0.04</td>\n",
       "      <td>0.39</td>\n",
       "      <td>Matthew Foster</td>\n",
       "      <td>4.0</td>\n",
       "    </tr>\n",
       "    <tr>\n",
       "      <th>1</th>\n",
       "      <td>1122072124</td>\n",
       "      <td>8186702651</td>\n",
       "      <td>519057</td>\n",
       "      <td>8/1/2024 0:03</td>\n",
       "      <td>8/1/2024 0:06</td>\n",
       "      <td>8/1/2024 0:18</td>\n",
       "      <td>\\n\\nAgent: Thank you for calling United Airlin...</td>\n",
       "      <td>Booking</td>\n",
       "      <td>519057</td>\n",
       "      <td>calm</td>\n",
       "      <td>neutral</td>\n",
       "      <td>0.02</td>\n",
       "      <td>0.35</td>\n",
       "      <td>Tammy Walters</td>\n",
       "      <td>NaN</td>\n",
       "    </tr>\n",
       "    <tr>\n",
       "      <th>2</th>\n",
       "      <td>6834291559</td>\n",
       "      <td>2416856629</td>\n",
       "      <td>158319</td>\n",
       "      <td>7/31/2024 23:59</td>\n",
       "      <td>8/1/2024 0:07</td>\n",
       "      <td>8/1/2024 0:26</td>\n",
       "      <td>\\n\\nAgent: Thank you for calling United Airlin...</td>\n",
       "      <td>IRROPS</td>\n",
       "      <td>158319</td>\n",
       "      <td>neutral</td>\n",
       "      <td>polite</td>\n",
       "      <td>-0.13</td>\n",
       "      <td>0.32</td>\n",
       "      <td>Jeffery Dixon</td>\n",
       "      <td>NaN</td>\n",
       "    </tr>\n",
       "    <tr>\n",
       "      <th>3</th>\n",
       "      <td>2266439882</td>\n",
       "      <td>1154544516</td>\n",
       "      <td>488324</td>\n",
       "      <td>8/1/2024 0:05</td>\n",
       "      <td>8/1/2024 0:10</td>\n",
       "      <td>8/1/2024 0:17</td>\n",
       "      <td>\\n\\nAgent: Thank you for calling United Airlin...</td>\n",
       "      <td>Upgrade</td>\n",
       "      <td>488324</td>\n",
       "      <td>neutral</td>\n",
       "      <td>frustrated</td>\n",
       "      <td>-0.20</td>\n",
       "      <td>0.20</td>\n",
       "      <td>David Wilkins</td>\n",
       "      <td>2.0</td>\n",
       "    </tr>\n",
       "    <tr>\n",
       "      <th>4</th>\n",
       "      <td>1211603231</td>\n",
       "      <td>5214456437</td>\n",
       "      <td>721730</td>\n",
       "      <td>8/1/2024 0:04</td>\n",
       "      <td>8/1/2024 0:14</td>\n",
       "      <td>8/1/2024 0:23</td>\n",
       "      <td>\\n\\nAgent: Thank you for calling United Airlin...</td>\n",
       "      <td>Seating</td>\n",
       "      <td>721730</td>\n",
       "      <td>neutral</td>\n",
       "      <td>polite</td>\n",
       "      <td>-0.05</td>\n",
       "      <td>0.35</td>\n",
       "      <td>Elizabeth Daniels</td>\n",
       "      <td>0.0</td>\n",
       "    </tr>\n",
       "  </tbody>\n",
       "</table>\n",
       "</div>"
      ],
      "text/plain": [
       "      call_id  customer_id  agent_id_x call_start_datetime  \\\n",
       "0  4667960400   2033123310      963118     7/31/2024 23:56   \n",
       "1  1122072124   8186702651      519057       8/1/2024 0:03   \n",
       "2  6834291559   2416856629      158319     7/31/2024 23:59   \n",
       "3  2266439882   1154544516      488324       8/1/2024 0:05   \n",
       "4  1211603231   5214456437      721730       8/1/2024 0:04   \n",
       "\n",
       "  agent_assigned_datetime call_end_datetime  \\\n",
       "0           8/1/2024 0:03     8/1/2024 0:34   \n",
       "1           8/1/2024 0:06     8/1/2024 0:18   \n",
       "2           8/1/2024 0:07     8/1/2024 0:26   \n",
       "3           8/1/2024 0:10     8/1/2024 0:17   \n",
       "4           8/1/2024 0:14     8/1/2024 0:23   \n",
       "\n",
       "                                     call_transcript primary_call_reason  \\\n",
       "0  \\n\\nAgent: Thank you for calling United Airlin...   Voluntary  Cancel   \n",
       "1  \\n\\nAgent: Thank you for calling United Airlin...             Booking   \n",
       "2  \\n\\nAgent: Thank you for calling United Airlin...              IRROPS   \n",
       "3  \\n\\nAgent: Thank you for calling United Airlin...             Upgrade   \n",
       "4  \\n\\nAgent: Thank you for calling United Airlin...             Seating   \n",
       "\n",
       "   agent_id_y agent_tone customer_tone  average_sentiment  \\\n",
       "0      963118    neutral         angry              -0.04   \n",
       "1      519057       calm       neutral               0.02   \n",
       "2      158319    neutral        polite              -0.13   \n",
       "3      488324    neutral    frustrated              -0.20   \n",
       "4      721730    neutral        polite              -0.05   \n",
       "\n",
       "   silence_percent_average      customer_name  elite_level_code  \n",
       "0                     0.39     Matthew Foster               4.0  \n",
       "1                     0.35      Tammy Walters               NaN  \n",
       "2                     0.32      Jeffery Dixon               NaN  \n",
       "3                     0.20      David Wilkins               2.0  \n",
       "4                     0.35  Elizabeth Daniels               0.0  "
      ]
     },
     "execution_count": 444,
     "metadata": {},
     "output_type": "execute_result"
    }
   ],
   "source": [
    "train_x.head()"
   ]
  },
  {
   "cell_type": "code",
   "execution_count": 445,
   "metadata": {},
   "outputs": [
    {
     "data": {
      "text/html": [
       "<div>\n",
       "<style scoped>\n",
       "    .dataframe tbody tr th:only-of-type {\n",
       "        vertical-align: middle;\n",
       "    }\n",
       "\n",
       "    .dataframe tbody tr th {\n",
       "        vertical-align: top;\n",
       "    }\n",
       "\n",
       "    .dataframe thead th {\n",
       "        text-align: right;\n",
       "    }\n",
       "</style>\n",
       "<table border=\"1\" class=\"dataframe\">\n",
       "  <thead>\n",
       "    <tr style=\"text-align: right;\">\n",
       "      <th></th>\n",
       "      <th>call_id</th>\n",
       "      <th>customer_id</th>\n",
       "      <th>agent_id_x</th>\n",
       "      <th>call_start_datetime</th>\n",
       "      <th>agent_assigned_datetime</th>\n",
       "      <th>call_end_datetime</th>\n",
       "      <th>call_transcript</th>\n",
       "      <th>agent_id_y</th>\n",
       "      <th>agent_tone</th>\n",
       "      <th>customer_tone</th>\n",
       "      <th>average_sentiment</th>\n",
       "      <th>silence_percent_average</th>\n",
       "      <th>customer_name</th>\n",
       "      <th>elite_level_code</th>\n",
       "    </tr>\n",
       "  </thead>\n",
       "  <tbody>\n",
       "    <tr>\n",
       "      <th>0</th>\n",
       "      <td>7732610078</td>\n",
       "      <td>4029953261</td>\n",
       "      <td>488324</td>\n",
       "      <td>8/1/2024 0:23</td>\n",
       "      <td>8/1/2024 0:34</td>\n",
       "      <td>8/1/2024 1:32</td>\n",
       "      <td>\\n\\nAgent: Thank you for calling United Airlin...</td>\n",
       "      <td>488324</td>\n",
       "      <td>neutral</td>\n",
       "      <td>neutral</td>\n",
       "      <td>-0.06</td>\n",
       "      <td>0.58</td>\n",
       "      <td>Cassandra Flores</td>\n",
       "      <td>NaN</td>\n",
       "    </tr>\n",
       "    <tr>\n",
       "      <th>1</th>\n",
       "      <td>2400299738</td>\n",
       "      <td>2034858976</td>\n",
       "      <td>963118</td>\n",
       "      <td>8/1/2024 1:33</td>\n",
       "      <td>8/1/2024 1:41</td>\n",
       "      <td>8/1/2024 1:54</td>\n",
       "      <td>\\n\\nAgent: Thank you for calling United Airlin...</td>\n",
       "      <td>963118</td>\n",
       "      <td>calm</td>\n",
       "      <td>angry</td>\n",
       "      <td>0.01</td>\n",
       "      <td>0.40</td>\n",
       "      <td>Hannah Drake</td>\n",
       "      <td>0.0</td>\n",
       "    </tr>\n",
       "    <tr>\n",
       "      <th>2</th>\n",
       "      <td>6533095063</td>\n",
       "      <td>1874845993</td>\n",
       "      <td>519057</td>\n",
       "      <td>8/1/2024 2:17</td>\n",
       "      <td>8/1/2024 2:27</td>\n",
       "      <td>8/1/2024 2:29</td>\n",
       "      <td>\\n\\nAgent: Thank you for calling United Airlin...</td>\n",
       "      <td>519057</td>\n",
       "      <td>neutral</td>\n",
       "      <td>calm</td>\n",
       "      <td>0.00</td>\n",
       "      <td>0.49</td>\n",
       "      <td>Larry Nolan</td>\n",
       "      <td>NaN</td>\n",
       "    </tr>\n",
       "    <tr>\n",
       "      <th>3</th>\n",
       "      <td>7774450920</td>\n",
       "      <td>2633426588</td>\n",
       "      <td>963118</td>\n",
       "      <td>8/1/2024 2:49</td>\n",
       "      <td>8/1/2024 2:53</td>\n",
       "      <td>8/1/2024 2:57</td>\n",
       "      <td>\\n\\nAgent: Thank you for calling United Airlin...</td>\n",
       "      <td>963118</td>\n",
       "      <td>calm</td>\n",
       "      <td>angry</td>\n",
       "      <td>0.02</td>\n",
       "      <td>0.28</td>\n",
       "      <td>Shelby Wright</td>\n",
       "      <td>NaN</td>\n",
       "    </tr>\n",
       "    <tr>\n",
       "      <th>4</th>\n",
       "      <td>9214147168</td>\n",
       "      <td>8334856492</td>\n",
       "      <td>158319</td>\n",
       "      <td>8/1/2024 2:49</td>\n",
       "      <td>8/1/2024 2:55</td>\n",
       "      <td>8/1/2024 2:59</td>\n",
       "      <td>\\n\\nAgent: Thank you for calling United Airlin...</td>\n",
       "      <td>158319</td>\n",
       "      <td>neutral</td>\n",
       "      <td>frustrated</td>\n",
       "      <td>-0.12</td>\n",
       "      <td>0.12</td>\n",
       "      <td>Mr. Thomas Simmons</td>\n",
       "      <td>3.0</td>\n",
       "    </tr>\n",
       "  </tbody>\n",
       "</table>\n",
       "</div>"
      ],
      "text/plain": [
       "      call_id  customer_id  agent_id_x call_start_datetime  \\\n",
       "0  7732610078   4029953261      488324       8/1/2024 0:23   \n",
       "1  2400299738   2034858976      963118       8/1/2024 1:33   \n",
       "2  6533095063   1874845993      519057       8/1/2024 2:17   \n",
       "3  7774450920   2633426588      963118       8/1/2024 2:49   \n",
       "4  9214147168   8334856492      158319       8/1/2024 2:49   \n",
       "\n",
       "  agent_assigned_datetime call_end_datetime  \\\n",
       "0           8/1/2024 0:34     8/1/2024 1:32   \n",
       "1           8/1/2024 1:41     8/1/2024 1:54   \n",
       "2           8/1/2024 2:27     8/1/2024 2:29   \n",
       "3           8/1/2024 2:53     8/1/2024 2:57   \n",
       "4           8/1/2024 2:55     8/1/2024 2:59   \n",
       "\n",
       "                                     call_transcript  agent_id_y agent_tone  \\\n",
       "0  \\n\\nAgent: Thank you for calling United Airlin...      488324    neutral   \n",
       "1  \\n\\nAgent: Thank you for calling United Airlin...      963118       calm   \n",
       "2  \\n\\nAgent: Thank you for calling United Airlin...      519057    neutral   \n",
       "3  \\n\\nAgent: Thank you for calling United Airlin...      963118       calm   \n",
       "4  \\n\\nAgent: Thank you for calling United Airlin...      158319    neutral   \n",
       "\n",
       "  customer_tone  average_sentiment  silence_percent_average  \\\n",
       "0       neutral              -0.06                     0.58   \n",
       "1         angry               0.01                     0.40   \n",
       "2          calm               0.00                     0.49   \n",
       "3         angry               0.02                     0.28   \n",
       "4    frustrated              -0.12                     0.12   \n",
       "\n",
       "        customer_name  elite_level_code  \n",
       "0    Cassandra Flores               NaN  \n",
       "1        Hannah Drake               0.0  \n",
       "2         Larry Nolan               NaN  \n",
       "3       Shelby Wright               NaN  \n",
       "4  Mr. Thomas Simmons               3.0  "
      ]
     },
     "execution_count": 445,
     "metadata": {},
     "output_type": "execute_result"
    }
   ],
   "source": [
    "test.head()"
   ]
  },
  {
   "cell_type": "code",
   "execution_count": 446,
   "metadata": {},
   "outputs": [],
   "source": [
    "def clean_text(text):\n",
    "    text = text.replace('-', ' ')\n",
    "    text = ' '.join(text.split())\n",
    "    text = text.replace('and', '&')\n",
    "    return text\n",
    "\n",
    "train_x['primary_call_reason'] = train_x['primary_call_reason'].apply(clean_text)"
   ]
  },
  {
   "cell_type": "code",
   "execution_count": 447,
   "metadata": {},
   "outputs": [
    {
     "data": {
      "text/plain": [
       "Index(['call_id', 'customer_id', 'agent_id_x', 'call_start_datetime',\n",
       "       'agent_assigned_datetime', 'call_end_datetime', 'call_transcript',\n",
       "       'agent_id_y', 'agent_tone', 'customer_tone', 'average_sentiment',\n",
       "       'silence_percent_average', 'customer_name', 'elite_level_code'],\n",
       "      dtype='object')"
      ]
     },
     "execution_count": 447,
     "metadata": {},
     "output_type": "execute_result"
    }
   ],
   "source": [
    "test.columns"
   ]
  },
  {
   "cell_type": "code",
   "execution_count": null,
   "metadata": {},
   "outputs": [],
   "source": []
  },
  {
   "cell_type": "code",
   "execution_count": 448,
   "metadata": {},
   "outputs": [
    {
     "data": {
      "text/plain": [
       "Index(['call_id', 'customer_id', 'agent_id_x', 'call_start_datetime',\n",
       "       'agent_assigned_datetime', 'call_end_datetime', 'call_transcript',\n",
       "       'primary_call_reason', 'agent_id_y', 'agent_tone', 'customer_tone',\n",
       "       'average_sentiment', 'silence_percent_average', 'customer_name',\n",
       "       'elite_level_code'],\n",
       "      dtype='object')"
      ]
     },
     "execution_count": 448,
     "metadata": {},
     "output_type": "execute_result"
    }
   ],
   "source": [
    "train_x.columns"
   ]
  },
  {
   "cell_type": "code",
   "execution_count": 449,
   "metadata": {},
   "outputs": [],
   "source": [
    "train_x['call_start_datetime'] = pd.to_datetime(train_x['call_start_datetime'])\n",
    "train_x['agent_assigned_datetime'] = pd.to_datetime(train_x['agent_assigned_datetime'])\n",
    "train_x['call_end_datetime'] = pd.to_datetime(train_x['call_end_datetime'])"
   ]
  },
  {
   "cell_type": "code",
   "execution_count": 450,
   "metadata": {},
   "outputs": [],
   "source": [
    "test['call_start_datetime'] = pd.to_datetime(test['call_start_datetime'])\n",
    "test['agent_assigned_datetime'] = pd.to_datetime(test['agent_assigned_datetime'])\n",
    "test['call_end_datetime'] = pd.to_datetime(test['call_end_datetime'])"
   ]
  },
  {
   "cell_type": "code",
   "execution_count": 451,
   "metadata": {},
   "outputs": [],
   "source": [
    "train_x['average_speed_to_answer'] = train_x['agent_assigned_datetime'] - train_x['call_start_datetime']\n",
    "train_x['average_handle_time'] = train_x['call_end_datetime'] - train_x['agent_assigned_datetime']"
   ]
  },
  {
   "cell_type": "code",
   "execution_count": 452,
   "metadata": {},
   "outputs": [],
   "source": [
    "test['average_speed_to_answer'] = test['agent_assigned_datetime'] - test['call_start_datetime']\n",
    "test['average_handle_time'] = test['call_end_datetime'] - test['agent_assigned_datetime']"
   ]
  },
  {
   "cell_type": "code",
   "execution_count": 453,
   "metadata": {},
   "outputs": [],
   "source": [
    "train_x = train_x.drop(['agent_assigned_datetime', 'call_start_datetime', 'call_end_datetime'], axis = 1)"
   ]
  },
  {
   "cell_type": "code",
   "execution_count": 454,
   "metadata": {},
   "outputs": [],
   "source": [
    "test = test.drop(['agent_assigned_datetime', 'call_start_datetime', 'call_end_datetime'], axis = 1)"
   ]
  },
  {
   "cell_type": "code",
   "execution_count": 455,
   "metadata": {},
   "outputs": [
    {
     "data": {
      "text/plain": [
       "(66653, 14)"
      ]
     },
     "execution_count": 455,
     "metadata": {},
     "output_type": "execute_result"
    }
   ],
   "source": [
    "train_x.shape"
   ]
  },
  {
   "cell_type": "code",
   "execution_count": 456,
   "metadata": {},
   "outputs": [
    {
     "data": {
      "text/plain": [
       "call_id                        0\n",
       "customer_id                    0\n",
       "agent_id_x                     0\n",
       "call_transcript                0\n",
       "primary_call_reason            0\n",
       "agent_id_y                     0\n",
       "agent_tone                   198\n",
       "customer_tone                  0\n",
       "average_sentiment            101\n",
       "silence_percent_average        0\n",
       "customer_name                  0\n",
       "elite_level_code           23959\n",
       "average_speed_to_answer        0\n",
       "average_handle_time            0\n",
       "dtype: int64"
      ]
     },
     "execution_count": 456,
     "metadata": {},
     "output_type": "execute_result"
    }
   ],
   "source": [
    "train_x.isnull().sum()"
   ]
  },
  {
   "cell_type": "code",
   "execution_count": 457,
   "metadata": {},
   "outputs": [
    {
     "data": {
      "text/plain": [
       "call_id                       0\n",
       "customer_id                   0\n",
       "agent_id_x                    0\n",
       "call_transcript               0\n",
       "agent_id_y                    0\n",
       "agent_tone                   19\n",
       "customer_tone                 0\n",
       "average_sentiment             8\n",
       "silence_percent_average       0\n",
       "customer_name                 0\n",
       "elite_level_code           1808\n",
       "average_speed_to_answer       0\n",
       "average_handle_time           0\n",
       "dtype: int64"
      ]
     },
     "execution_count": 457,
     "metadata": {},
     "output_type": "execute_result"
    }
   ],
   "source": [
    "test.isnull().sum()"
   ]
  },
  {
   "cell_type": "code",
   "execution_count": 458,
   "metadata": {},
   "outputs": [],
   "source": [
    "train_x['elite_level_code'] = train_x['elite_level_code'].fillna(0.0)"
   ]
  },
  {
   "cell_type": "code",
   "execution_count": 459,
   "metadata": {},
   "outputs": [],
   "source": [
    "test['elite_level_code'] = test['elite_level_code'].fillna(0.0)"
   ]
  },
  {
   "cell_type": "code",
   "execution_count": 460,
   "metadata": {},
   "outputs": [],
   "source": [
    "mode_agent_tone = train_x['agent_tone'].mode()[0]\n",
    "train_x['agent_tone'] = train_x['agent_tone'].fillna(mode_agent_tone)\n",
    "\n",
    "mean_average_sentiment = train_x['average_sentiment'].mean()\n",
    "train_x['average_sentiment'] = train_x['average_sentiment'].fillna(mean_average_sentiment)"
   ]
  },
  {
   "cell_type": "code",
   "execution_count": 461,
   "metadata": {},
   "outputs": [],
   "source": [
    "mode_agent_tone = test['agent_tone'].mode()[0]\n",
    "test['agent_tone'] = test['agent_tone'].fillna(mode_agent_tone)\n",
    "\n",
    "mean_average_sentiment = test['average_sentiment'].mean()\n",
    "test['average_sentiment'] = test['average_sentiment'].fillna(mean_average_sentiment)"
   ]
  },
  {
   "cell_type": "code",
   "execution_count": 462,
   "metadata": {},
   "outputs": [
    {
     "data": {
      "text/plain": [
       "call_id                    0\n",
       "customer_id                0\n",
       "agent_id_x                 0\n",
       "call_transcript            0\n",
       "primary_call_reason        0\n",
       "agent_id_y                 0\n",
       "agent_tone                 0\n",
       "customer_tone              0\n",
       "average_sentiment          0\n",
       "silence_percent_average    0\n",
       "customer_name              0\n",
       "elite_level_code           0\n",
       "average_speed_to_answer    0\n",
       "average_handle_time        0\n",
       "dtype: int64"
      ]
     },
     "execution_count": 462,
     "metadata": {},
     "output_type": "execute_result"
    }
   ],
   "source": [
    "train_x.isnull().sum()"
   ]
  },
  {
   "cell_type": "code",
   "execution_count": 463,
   "metadata": {},
   "outputs": [
    {
     "data": {
      "text/plain": [
       "call_id                    0\n",
       "customer_id                0\n",
       "agent_id_x                 0\n",
       "call_transcript            0\n",
       "agent_id_y                 0\n",
       "agent_tone                 0\n",
       "customer_tone              0\n",
       "average_sentiment          0\n",
       "silence_percent_average    0\n",
       "customer_name              0\n",
       "elite_level_code           0\n",
       "average_speed_to_answer    0\n",
       "average_handle_time        0\n",
       "dtype: int64"
      ]
     },
     "execution_count": 463,
     "metadata": {},
     "output_type": "execute_result"
    }
   ],
   "source": [
    "test.isnull().sum()"
   ]
  },
  {
   "cell_type": "code",
   "execution_count": 465,
   "metadata": {},
   "outputs": [
    {
     "name": "stderr",
     "output_type": "stream",
     "text": [
      "[nltk_data] Downloading package stopwords to\n",
      "[nltk_data]     C:\\Users\\shaun\\AppData\\Roaming\\nltk_data...\n",
      "[nltk_data]   Package stopwords is already up-to-date!\n"
     ]
    }
   ],
   "source": [
    "import nltk\n",
    "from nltk.corpus import stopwords\n",
    "import tensorflow_hub as hub\n",
    "\n",
    "nltk.download('stopwords')\n",
    "\n",
    "stop_words = set(stopwords.words('english'))\n",
    "\n",
    "def preprocess_text(text):\n",
    "    words = text.split()\n",
    "    filtered_words = [word for word in words if word.lower() not in stop_words]\n",
    "    return ' '.join(filtered_words[:50])  \n",
    "X_text = train_x['call_transcript'].apply(preprocess_text)\n",
    "X_test_text = test['call_transcript'].apply(preprocess_text)\n",
    "\n",
    "embed = hub.load(\"https://tfhub.dev/google/universal-sentence-encoder/4\")\n",
    "\n",
    "def embed_in_batches(data, batch_size=32):\n",
    "    embeddings = []\n",
    "    for i in range(0, len(data), batch_size):\n",
    "        batch = data[i:i + batch_size]\n",
    "        batch_embeddings = embed(batch.tolist())\n",
    "        embeddings.append(batch_embeddings)\n",
    "    return np.concatenate(embeddings)\n",
    "\n",
    "X_text = embed_in_batches(X_text)\n",
    "X_test_text = embed_in_batches(X_test_text)"
   ]
  },
  {
   "cell_type": "code",
   "execution_count": 466,
   "metadata": {},
   "outputs": [],
   "source": [
    "train_x = train_x.drop(['agent_id_x', 'agent_id_y', 'call_id', 'customer_id', 'customer_name'], axis = 1)"
   ]
  },
  {
   "cell_type": "code",
   "execution_count": 467,
   "metadata": {},
   "outputs": [],
   "source": [
    "test = test.drop(['agent_id_x', 'agent_id_y', 'call_id', 'customer_id', 'customer_name'], axis = 1)"
   ]
  },
  {
   "cell_type": "code",
   "execution_count": 468,
   "metadata": {},
   "outputs": [],
   "source": [
    "from sklearn.preprocessing import LabelEncoder, StandardScaler\n",
    "\n",
    "encoder = LabelEncoder()\n",
    "train_x['agent_tone'] = encoder.fit_transform(train_x['agent_tone'])\n",
    "train_x['customer_tone'] = encoder.fit_transform(train_x['customer_tone'])\n",
    "\n",
    "scaler = StandardScaler()\n",
    "train_x['silence_percent_average'] = scaler.fit_transform(train_x[['silence_percent_average']])\n",
    "\n",
    "test['agent_tone'] = encoder.transform(test['agent_tone'])\n",
    "test['customer_tone'] = encoder.transform(test['customer_tone'])\n",
    "\n",
    "test['silence_percent_average'] = scaler.transform(test[['silence_percent_average']])\n"
   ]
  },
  {
   "cell_type": "code",
   "execution_count": 469,
   "metadata": {},
   "outputs": [
    {
     "data": {
      "text/plain": [
       "Index(['call_transcript', 'primary_call_reason', 'agent_tone', 'customer_tone',\n",
       "       'average_sentiment', 'silence_percent_average', 'elite_level_code',\n",
       "       'average_speed_to_answer', 'average_handle_time'],\n",
       "      dtype='object')"
      ]
     },
     "execution_count": 469,
     "metadata": {},
     "output_type": "execute_result"
    }
   ],
   "source": [
    "train_x.columns"
   ]
  },
  {
   "cell_type": "code",
   "execution_count": 470,
   "metadata": {},
   "outputs": [
    {
     "data": {
      "text/plain": [
       "Index(['call_transcript', 'agent_tone', 'customer_tone', 'average_sentiment',\n",
       "       'silence_percent_average', 'elite_level_code',\n",
       "       'average_speed_to_answer', 'average_handle_time'],\n",
       "      dtype='object')"
      ]
     },
     "execution_count": 470,
     "metadata": {},
     "output_type": "execute_result"
    }
   ],
   "source": [
    "test.columns"
   ]
  },
  {
   "cell_type": "code",
   "execution_count": 471,
   "metadata": {},
   "outputs": [],
   "source": [
    "import pandas as pd\n",
    "import scipy\n",
    "from scipy.sparse import csr_matrix, hstack\n",
    "from sklearn.preprocessing import LabelEncoder\n",
    "\n",
    "X = train_x.drop(columns=['primary_call_reason', 'call_transcript'])  \n",
    "timedelta_cols = X.select_dtypes(include=['timedelta64']).columns\n",
    "for col in timedelta_cols:\n",
    "    X[col] = X[col].dt.total_seconds()\n",
    "if isinstance(X_text, pd.DataFrame):\n",
    "    X_text = csr_matrix(X_text.values) \n",
    "X = csr_matrix(X.values) \n",
    "\n",
    "X = hstack([X_text, X])\n",
    "y = train_x['primary_call_reason']\n",
    "label_encoder = LabelEncoder()\n",
    "y = label_encoder.fit_transform(y)"
   ]
  },
  {
   "cell_type": "code",
   "execution_count": 472,
   "metadata": {},
   "outputs": [],
   "source": [
    "train_x = train_x.drop(['call_transcript', 'primary_call_reason'], axis = 1)"
   ]
  },
  {
   "cell_type": "code",
   "execution_count": 473,
   "metadata": {},
   "outputs": [
    {
     "data": {
      "text/plain": [
       "Index(['agent_tone', 'customer_tone', 'average_sentiment',\n",
       "       'silence_percent_average', 'elite_level_code',\n",
       "       'average_speed_to_answer', 'average_handle_time'],\n",
       "      dtype='object')"
      ]
     },
     "execution_count": 473,
     "metadata": {},
     "output_type": "execute_result"
    }
   ],
   "source": [
    "train_x.columns"
   ]
  },
  {
   "cell_type": "code",
   "execution_count": 474,
   "metadata": {},
   "outputs": [
    {
     "data": {
      "image/png": "[encoded data removed]",
      "text/plain": [
       "<Figure size 1000x800 with 2 Axes>"
      ]
     },
     "metadata": {},
     "output_type": "display_data"
    }
   ],
   "source": [
    "import pandas as pd\n",
    "import seaborn as sns\n",
    "import matplotlib.pyplot as plt\n",
    "\n",
    "correlation_matrix = train_x.corr()\n",
    "\n",
    "plt.figure(figsize=(10, 8))\n",
    "sns.heatmap(correlation_matrix, annot=True, fmt='.2f', cmap='coolwarm', square=True, cbar=True)\n",
    "\n",
    "plt.title('Correlation Matrix')\n",
    "plt.xticks(rotation=45)\n",
    "plt.yticks(rotation=45)\n",
    "plt.tight_layout()  \n",
    "plt.show()\n"
   ]
  },
  {
   "cell_type": "markdown",
   "metadata": {},
   "source": [
    "The correlation matrix shows the relationships between key call center features, with values ranging from -1 to 1:\n",
    "\n",
    "Negative correlation between agent_tone and average_sentiment (-0.49) indicates that more negative agent tone correlates with lower sentiment scores.\n",
    "Positive correlation between silence_percent_average and average_handle_time (0.41) suggests that longer silences during calls tend to increase the handle time.\n",
    "Other feature pairs, such as customer_tone and elite_level_code, show little to no correlation, suggesting independence."
   ]
  },
  {
   "cell_type": "code",
   "execution_count": 475,
   "metadata": {},
   "outputs": [],
   "source": [
    "import pandas as pd\n",
    "import scipy\n",
    "from scipy.sparse import csr_matrix, hstack\n",
    "from sklearn.preprocessing import LabelEncoder\n",
    "\n",
    "test = test.drop(columns=['call_transcript'])  \n",
    "timedelta_cols = test.select_dtypes(include=['timedelta64']).columns\n",
    "for col in timedelta_cols:\n",
    "    test[col] = test[col].dt.total_seconds()\n",
    "if isinstance(X_test_text, pd.DataFrame):\n",
    "    X_test_text = csr_matrix(X_test_text.values)  \n",
    "test = csr_matrix(test.values)  \n",
    "\n",
    "test = hstack([X_test_text, test])"
   ]
  },
  {
   "cell_type": "code",
   "execution_count": 476,
   "metadata": {},
   "outputs": [
    {
     "data": {
      "text/plain": [
       "<COOrdinate sparse matrix of dtype 'float64'\n",
       "\twith 2671846 stored elements and shape (5157, 519)>"
      ]
     },
     "execution_count": 476,
     "metadata": {},
     "output_type": "execute_result"
    }
   ],
   "source": [
    "test"
   ]
  },
  {
   "cell_type": "code",
   "execution_count": 477,
   "metadata": {},
   "outputs": [
    {
     "data": {
      "text/plain": [
       "array([18,  1,  8, ..., 17, 17,  5])"
      ]
     },
     "execution_count": 477,
     "metadata": {},
     "output_type": "execute_result"
    }
   ],
   "source": [
    "y"
   ]
  },
  {
   "cell_type": "code",
   "execution_count": 479,
   "metadata": {},
   "outputs": [],
   "source": [
    "from tensorflow.keras.models import Sequential\n",
    "from tensorflow.keras.layers import Dense\n",
    "from tensorflow.keras.utils import to_categorical"
   ]
  },
  {
   "cell_type": "code",
   "execution_count": 480,
   "metadata": {},
   "outputs": [
    {
     "name": "stderr",
     "output_type": "stream",
     "text": [
      "c:\\PythonPersonal\\Extras\\myvenv\\lib\\site-packages\\keras\\src\\layers\\core\\dense.py:87: UserWarning: Do not pass an `input_shape`/`input_dim` argument to a layer. When using Sequential models, prefer using an `Input(shape)` object as the first layer in the model instead.\n",
      "  super().__init__(activity_regularizer=activity_regularizer, **kwargs)\n"
     ]
    },
    {
     "name": "stdout",
     "output_type": "stream",
     "text": [
      "Epoch 1/100\n",
      "\u001b[1m1334/1334\u001b[0m \u001b[32m━━━━━━━━━━━━━━━━━━━━\u001b[0m\u001b[37m\u001b[0m \u001b[1m9s\u001b[0m 5ms/step - accuracy: 0.2715 - loss: 2.2621 - val_accuracy: 0.3285 - val_loss: 1.8154\n",
      "Epoch 2/100\n",
      "\u001b[1m1334/1334\u001b[0m \u001b[32m━━━━━━━━━━━━━━━━━━━━\u001b[0m\u001b[37m\u001b[0m \u001b[1m6s\u001b[0m 5ms/step - accuracy: 0.3323 - loss: 1.8995 - val_accuracy: 0.3220 - val_loss: 1.8692\n",
      "Epoch 3/100\n",
      "\u001b[1m1334/1334\u001b[0m \u001b[32m━━━━━━━━━━━━━━━━━━━━\u001b[0m\u001b[37m\u001b[0m \u001b[1m6s\u001b[0m 4ms/step - accuracy: 0.3394 - loss: 1.8631 - val_accuracy: 0.3559 - val_loss: 1.7458\n",
      "Epoch 4/100\n",
      "\u001b[1m1334/1334\u001b[0m \u001b[32m━━━━━━━━━━━━━━━━━━━━\u001b[0m\u001b[37m\u001b[0m \u001b[1m6s\u001b[0m 5ms/step - accuracy: 0.3373 - loss: 1.8566 - val_accuracy: 0.3413 - val_loss: 1.8042\n",
      "Epoch 5/100\n",
      "\u001b[1m1334/1334\u001b[0m \u001b[32m━━━━━━━━━━━━━━━━━━━━\u001b[0m\u001b[37m\u001b[0m \u001b[1m6s\u001b[0m 5ms/step - accuracy: 0.3467 - loss: 1.8332 - val_accuracy: 0.3333 - val_loss: 1.8105\n",
      "Epoch 6/100\n",
      "\u001b[1m1334/1334\u001b[0m \u001b[32m━━━━━━━━━━━━━━━━━━━━\u001b[0m\u001b[37m\u001b[0m \u001b[1m6s\u001b[0m 5ms/step - accuracy: 0.3577 - loss: 1.8134 - val_accuracy: 0.3639 - val_loss: 1.7152\n",
      "Epoch 7/100\n",
      "\u001b[1m1334/1334\u001b[0m \u001b[32m━━━━━━━━━━━━━━━━━━━━\u001b[0m\u001b[37m\u001b[0m \u001b[1m6s\u001b[0m 5ms/step - accuracy: 0.3593 - loss: 1.8060 - val_accuracy: 0.3856 - val_loss: 1.7200\n",
      "Epoch 8/100\n",
      "\u001b[1m1334/1334\u001b[0m \u001b[32m━━━━━━━━━━━━━━━━━━━━\u001b[0m\u001b[37m\u001b[0m \u001b[1m6s\u001b[0m 5ms/step - accuracy: 0.3648 - loss: 1.7910 - val_accuracy: 0.3341 - val_loss: 1.8161\n",
      "Epoch 9/100\n",
      "\u001b[1m1334/1334\u001b[0m \u001b[32m━━━━━━━━━━━━━━━━━━━━\u001b[0m\u001b[37m\u001b[0m \u001b[1m7s\u001b[0m 5ms/step - accuracy: 0.3661 - loss: 1.7912 - val_accuracy: 0.3487 - val_loss: 1.7363\n",
      "Epoch 10/100\n",
      "\u001b[1m1334/1334\u001b[0m \u001b[32m━━━━━━━━━━━━━━━━━━━━\u001b[0m\u001b[37m\u001b[0m \u001b[1m7s\u001b[0m 5ms/step - accuracy: 0.3595 - loss: 1.7921 - val_accuracy: 0.3930 - val_loss: 1.6929\n",
      "Epoch 11/100\n",
      "\u001b[1m1334/1334\u001b[0m \u001b[32m━━━━━━━━━━━━━━━━━━━━\u001b[0m\u001b[37m\u001b[0m \u001b[1m7s\u001b[0m 5ms/step - accuracy: 0.3610 - loss: 1.7861 - val_accuracy: 0.3796 - val_loss: 1.6990\n",
      "Epoch 12/100\n",
      "\u001b[1m1334/1334\u001b[0m \u001b[32m━━━━━━━━━━━━━━━━━━━━\u001b[0m\u001b[37m\u001b[0m \u001b[1m7s\u001b[0m 5ms/step - accuracy: 0.3542 - loss: 1.7912 - val_accuracy: 0.3722 - val_loss: 1.6919\n",
      "Epoch 13/100\n",
      "\u001b[1m1334/1334\u001b[0m \u001b[32m━━━━━━━━━━━━━━━━━━━━\u001b[0m\u001b[37m\u001b[0m \u001b[1m7s\u001b[0m 5ms/step - accuracy: 0.3643 - loss: 1.7698 - val_accuracy: 0.3921 - val_loss: 1.6693\n",
      "Epoch 14/100\n",
      "\u001b[1m1334/1334\u001b[0m \u001b[32m━━━━━━━━━━━━━━━━━━━━\u001b[0m\u001b[37m\u001b[0m \u001b[1m7s\u001b[0m 5ms/step - accuracy: 0.3646 - loss: 1.7823 - val_accuracy: 0.3727 - val_loss: 1.7086\n",
      "Epoch 15/100\n",
      "\u001b[1m1334/1334\u001b[0m \u001b[32m━━━━━━━━━━━━━━━━━━━━\u001b[0m\u001b[37m\u001b[0m \u001b[1m7s\u001b[0m 5ms/step - accuracy: 0.3703 - loss: 1.7898 - val_accuracy: 0.3927 - val_loss: 1.6824\n",
      "Epoch 16/100\n",
      "\u001b[1m1334/1334\u001b[0m \u001b[32m━━━━━━━━━━━━━━━━━━━━\u001b[0m\u001b[37m\u001b[0m \u001b[1m7s\u001b[0m 5ms/step - accuracy: 0.3747 - loss: 1.7629 - val_accuracy: 0.3597 - val_loss: 1.7251\n",
      "Epoch 17/100\n",
      "\u001b[1m1334/1334\u001b[0m \u001b[32m━━━━━━━━━━━━━━━━━━━━\u001b[0m\u001b[37m\u001b[0m \u001b[1m7s\u001b[0m 5ms/step - accuracy: 0.3641 - loss: 1.7775 - val_accuracy: 0.4014 - val_loss: 1.6678\n",
      "Epoch 18/100\n",
      "\u001b[1m1334/1334\u001b[0m \u001b[32m━━━━━━━━━━━━━━━━━━━━\u001b[0m\u001b[37m\u001b[0m \u001b[1m7s\u001b[0m 5ms/step - accuracy: 0.3712 - loss: 1.7686 - val_accuracy: 0.3932 - val_loss: 1.6916\n",
      "Epoch 19/100\n",
      "\u001b[1m1334/1334\u001b[0m \u001b[32m━━━━━━━━━━━━━━━━━━━━\u001b[0m\u001b[37m\u001b[0m \u001b[1m7s\u001b[0m 5ms/step - accuracy: 0.3706 - loss: 1.7665 - val_accuracy: 0.3724 - val_loss: 1.7148\n",
      "Epoch 20/100\n",
      "\u001b[1m1334/1334\u001b[0m \u001b[32m━━━━━━━━━━━━━━━━━━━━\u001b[0m\u001b[37m\u001b[0m \u001b[1m7s\u001b[0m 5ms/step - accuracy: 0.3703 - loss: 1.7531 - val_accuracy: 0.3729 - val_loss: 1.7051\n",
      "Epoch 21/100\n",
      "\u001b[1m1334/1334\u001b[0m \u001b[32m━━━━━━━━━━━━━━━━━━━━\u001b[0m\u001b[37m\u001b[0m \u001b[1m7s\u001b[0m 5ms/step - accuracy: 0.3733 - loss: 1.7608 - val_accuracy: 0.3942 - val_loss: 1.6864\n",
      "Epoch 22/100\n",
      "\u001b[1m1334/1334\u001b[0m \u001b[32m━━━━━━━━━━━━━━━━━━━━\u001b[0m\u001b[37m\u001b[0m \u001b[1m7s\u001b[0m 5ms/step - accuracy: 0.3713 - loss: 1.7579 - val_accuracy: 0.3936 - val_loss: 1.6691\n"
     ]
    },
    {
     "data": {
      "text/plain": [
       "<keras.src.callbacks.history.History at 0x25be42beb90>"
      ]
     },
     "execution_count": 480,
     "metadata": {},
     "output_type": "execute_result"
    }
   ],
   "source": [
    "from tensorflow.keras.callbacks import EarlyStopping\n",
    "from tensorflow.keras.layers import BatchNormalization, Dense\n",
    "from sklearn.model_selection import train_test_split\n",
    "from sklearn.preprocessing import LabelBinarizer\n",
    "from tensorflow.keras.models import Sequential\n",
    "\n",
    "X_train, X_test, y_train, y_test = train_test_split(X, y, test_size=0.2, random_state=42, stratify=y)\n",
    "\n",
    "label_binarizer = LabelBinarizer()\n",
    "y_train = label_binarizer.fit_transform(y_train)\n",
    "y_test = label_binarizer.transform(y_test)\n",
    "\n",
    "early_stopping = EarlyStopping(monitor='val_loss', patience=5, restore_best_weights=True)\n",
    "\n",
    "model = Sequential()\n",
    "model.add(Dense(512, input_dim=X_train.shape[1], activation='relu'))  \n",
    "model.add(BatchNormalization())\n",
    "model.add(Dense(512, activation='relu'))  \n",
    "model.add(BatchNormalization())\n",
    "model.add(Dense(256, activation='relu'))  \n",
    "model.add(BatchNormalization())\n",
    "model.add(Dense(256, activation='relu'))  \n",
    "model.add(BatchNormalization())\n",
    "model.add(Dense(128, activation='relu'))  \n",
    "model.add(BatchNormalization())\n",
    "model.add(Dense(128, activation='relu'))  \n",
    "model.add(BatchNormalization())\n",
    "model.add(Dense(64, activation='relu'))  \n",
    "model.add(BatchNormalization())\n",
    "model.add(Dense(64, activation='relu'))  \n",
    "model.add(BatchNormalization())\n",
    "model.add(Dense(32, activation='relu'))  \n",
    "model.add(BatchNormalization())\n",
    "model.add(Dense(32, activation='relu'))  \n",
    "model.add(BatchNormalization())\n",
    "model.add(Dense(20, activation='softmax'))  \n",
    "\n",
    "model.compile(optimizer='adam', loss='categorical_crossentropy', metrics=['accuracy'])\n",
    "\n",
    "model.fit(X_train, y_train, epochs=100, batch_size=32, validation_split=0.2, callbacks=[early_stopping])\n",
    "\n",
    "\n"
   ]
  },
  {
   "cell_type": "code",
   "execution_count": 481,
   "metadata": {},
   "outputs": [
    {
     "name": "stdout",
     "output_type": "stream",
     "text": [
      "\u001b[1m417/417\u001b[0m \u001b[32m━━━━━━━━━━━━━━━━━━━━\u001b[0m\u001b[37m\u001b[0m \u001b[1m1s\u001b[0m 1ms/step - accuracy: 0.3972 - loss: 1.6736\n",
      "Test Loss: 1.6710041761398315, Test Accuracy: 0.3995199203491211\n"
     ]
    }
   ],
   "source": [
    "test_loss, test_accuracy = model.evaluate(X_test, y_test)\n",
    "print(f'Test Loss: {test_loss}, Test Accuracy: {test_accuracy}')"
   ]
  },
  {
   "cell_type": "code",
   "execution_count": 484,
   "metadata": {},
   "outputs": [
    {
     "data": {
      "text/plain": [
       "<COOrdinate sparse matrix of dtype 'float64'\n",
       "\twith 2671846 stored elements and shape (5157, 519)>"
      ]
     },
     "execution_count": 484,
     "metadata": {},
     "output_type": "execute_result"
    }
   ],
   "source": [
    "test"
   ]
  },
  {
   "cell_type": "code",
   "execution_count": 504,
   "metadata": {},
   "outputs": [
    {
     "name": "stdout",
     "output_type": "stream",
     "text": [
      "\u001b[1m162/162\u001b[0m \u001b[32m━━━━━━━━━━━━━━━━━━━━\u001b[0m\u001b[37m\u001b[0m \u001b[1m0s\u001b[0m 2ms/step\n"
     ]
    }
   ],
   "source": [
    "predictions = model.predict(test)\n",
    "\n",
    "\n"
   ]
  },
  {
   "cell_type": "code",
   "execution_count": 505,
   "metadata": {},
   "outputs": [
    {
     "name": "stdout",
     "output_type": "stream",
     "text": [
      "         call_id primary_call_reason\n",
      "0     7732610078    Voluntary Change\n",
      "1     2400299738              IRROPS\n",
      "2     6533095063             Seating\n",
      "3     7774450920              IRROPS\n",
      "4     9214147168        Mileage Plus\n",
      "...          ...                 ...\n",
      "5152  5300201106      Communications\n",
      "5153   727694488              IRROPS\n",
      "5154   147487837              IRROPS\n",
      "5155  5330794838              IRROPS\n",
      "5156  8332067080              IRROPS\n",
      "\n",
      "[5157 rows x 2 columns]\n"
     ]
    }
   ],
   "source": [
    "\n",
    "predicted_primary_call_reason = np.argmax(predictions, axis=1)  \n",
    "\n",
    "predicted_call_types = label_encoder.inverse_transform(predicted_primary_call_reason)\n",
    "\n",
    "predictions_df = pd.DataFrame({\n",
    "    'call_id': call_id_fortest,  \n",
    "    'primary_call_reason': predicted_call_types\n",
    "})\n",
    "\n",
    "print(predictions_df)\n"
   ]
  },
  {
   "cell_type": "code",
   "execution_count": 506,
   "metadata": {},
   "outputs": [],
   "source": [
    "# Save the DataFrame to a CSV file\n",
    "predictions_df.to_csv('test_ChanduChampion2.csv', index=False)"
   ]
  },
  {
   "cell_type": "code",
   "execution_count": null,
   "metadata": {},
   "outputs": [],
   "source": []
  },
  {
   "cell_type": "code",
   "execution_count": null,
   "metadata": {},
   "outputs": [],
   "source": []
  }
 ],
 "metadata": {
  "kernelspec": {
   "display_name": "myvenv",
   "language": "python",
   "name": "python3"
  },
  "language_info": {
   "codemirror_mode": {
    "name": "ipython",
    "version": 3
   },
   "file_extension": ".py",
   "mimetype": "text/x-python",
   "name": "python",
   "nbconvert_exporter": "python",
   "pygments_lexer": "ipython3",
   "version": "3.10.11"
  }
 },
 "nbformat": 4,
 "nbformat_minor": 2
}
