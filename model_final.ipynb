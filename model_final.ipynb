{
 "cells": [
  {
   "cell_type": "code",
   "execution_count": 69,
   "metadata": {},
   "outputs": [],
   "source": [
    "import pandas as pd\n",
    "import numpy as np"
   ]
  },
  {
   "cell_type": "code",
   "execution_count": 70,
   "metadata": {},
   "outputs": [],
   "source": [
    "test = pd.read_csv(\"testbc7185d.csv\")"
   ]
  },
  {
   "cell_type": "code",
   "execution_count": 71,
   "metadata": {},
   "outputs": [],
   "source": [
    "df_calls = pd.read_csv(\"callsf0d4f5a.csv\")"
   ]
  },
  {
   "cell_type": "code",
   "execution_count": 72,
   "metadata": {},
   "outputs": [],
   "source": [
    "df_reasons = pd.read_csv(\"reason18315ff.csv\")"
   ]
  },
  {
   "cell_type": "code",
   "execution_count": 73,
   "metadata": {},
   "outputs": [],
   "source": [
    "test = pd.merge(test, df_calls, on='call_id', how='inner') "
   ]
  },
  {
   "cell_type": "code",
   "execution_count": 74,
   "metadata": {},
   "outputs": [],
   "source": [
    "train = pd.merge(df_calls, df_reasons, on='call_id', how='inner') "
   ]
  },
  {
   "cell_type": "code",
   "execution_count": 75,
   "metadata": {},
   "outputs": [
    {
     "data": {
      "text/html": [
       "<div>\n",
       "<style scoped>\n",
       "    .dataframe tbody tr th:only-of-type {\n",
       "        vertical-align: middle;\n",
       "    }\n",
       "\n",
       "    .dataframe tbody tr th {\n",
       "        vertical-align: top;\n",
       "    }\n",
       "\n",
       "    .dataframe thead th {\n",
       "        text-align: right;\n",
       "    }\n",
       "</style>\n",
       "<table border=\"1\" class=\"dataframe\">\n",
       "  <thead>\n",
       "    <tr style=\"text-align: right;\">\n",
       "      <th></th>\n",
       "      <th>call_id</th>\n",
       "      <th>customer_id</th>\n",
       "      <th>agent_id</th>\n",
       "      <th>call_start_datetime</th>\n",
       "      <th>agent_assigned_datetime</th>\n",
       "      <th>call_end_datetime</th>\n",
       "      <th>call_transcript</th>\n",
       "      <th>primary_call_reason</th>\n",
       "    </tr>\n",
       "  </thead>\n",
       "  <tbody>\n",
       "    <tr>\n",
       "      <th>0</th>\n",
       "      <td>4667960400</td>\n",
       "      <td>2033123310</td>\n",
       "      <td>963118</td>\n",
       "      <td>7/31/2024 23:56</td>\n",
       "      <td>8/1/2024 0:03</td>\n",
       "      <td>8/1/2024 0:34</td>\n",
       "      <td>\\n\\nAgent: Thank you for calling United Airlin...</td>\n",
       "      <td>Voluntary  Cancel</td>\n",
       "    </tr>\n",
       "    <tr>\n",
       "      <th>1</th>\n",
       "      <td>1122072124</td>\n",
       "      <td>8186702651</td>\n",
       "      <td>519057</td>\n",
       "      <td>8/1/2024 0:03</td>\n",
       "      <td>8/1/2024 0:06</td>\n",
       "      <td>8/1/2024 0:18</td>\n",
       "      <td>\\n\\nAgent: Thank you for calling United Airlin...</td>\n",
       "      <td>Booking</td>\n",
       "    </tr>\n",
       "    <tr>\n",
       "      <th>2</th>\n",
       "      <td>6834291559</td>\n",
       "      <td>2416856629</td>\n",
       "      <td>158319</td>\n",
       "      <td>7/31/2024 23:59</td>\n",
       "      <td>8/1/2024 0:07</td>\n",
       "      <td>8/1/2024 0:26</td>\n",
       "      <td>\\n\\nAgent: Thank you for calling United Airlin...</td>\n",
       "      <td>IRROPS</td>\n",
       "    </tr>\n",
       "    <tr>\n",
       "      <th>3</th>\n",
       "      <td>2266439882</td>\n",
       "      <td>1154544516</td>\n",
       "      <td>488324</td>\n",
       "      <td>8/1/2024 0:05</td>\n",
       "      <td>8/1/2024 0:10</td>\n",
       "      <td>8/1/2024 0:17</td>\n",
       "      <td>\\n\\nAgent: Thank you for calling United Airlin...</td>\n",
       "      <td>Upgrade</td>\n",
       "    </tr>\n",
       "    <tr>\n",
       "      <th>4</th>\n",
       "      <td>1211603231</td>\n",
       "      <td>5214456437</td>\n",
       "      <td>721730</td>\n",
       "      <td>8/1/2024 0:04</td>\n",
       "      <td>8/1/2024 0:14</td>\n",
       "      <td>8/1/2024 0:23</td>\n",
       "      <td>\\n\\nAgent: Thank you for calling United Airlin...</td>\n",
       "      <td>Seating</td>\n",
       "    </tr>\n",
       "  </tbody>\n",
       "</table>\n",
       "</div>"
      ],
      "text/plain": [
       "      call_id  customer_id  agent_id call_start_datetime  \\\n",
       "0  4667960400   2033123310    963118     7/31/2024 23:56   \n",
       "1  1122072124   8186702651    519057       8/1/2024 0:03   \n",
       "2  6834291559   2416856629    158319     7/31/2024 23:59   \n",
       "3  2266439882   1154544516    488324       8/1/2024 0:05   \n",
       "4  1211603231   5214456437    721730       8/1/2024 0:04   \n",
       "\n",
       "  agent_assigned_datetime call_end_datetime  \\\n",
       "0           8/1/2024 0:03     8/1/2024 0:34   \n",
       "1           8/1/2024 0:06     8/1/2024 0:18   \n",
       "2           8/1/2024 0:07     8/1/2024 0:26   \n",
       "3           8/1/2024 0:10     8/1/2024 0:17   \n",
       "4           8/1/2024 0:14     8/1/2024 0:23   \n",
       "\n",
       "                                     call_transcript primary_call_reason  \n",
       "0  \\n\\nAgent: Thank you for calling United Airlin...   Voluntary  Cancel  \n",
       "1  \\n\\nAgent: Thank you for calling United Airlin...             Booking  \n",
       "2  \\n\\nAgent: Thank you for calling United Airlin...              IRROPS  \n",
       "3  \\n\\nAgent: Thank you for calling United Airlin...             Upgrade  \n",
       "4  \\n\\nAgent: Thank you for calling United Airlin...             Seating  "
      ]
     },
     "execution_count": 75,
     "metadata": {},
     "output_type": "execute_result"
    }
   ],
   "source": [
    "train.head()"
   ]
  },
  {
   "cell_type": "code",
   "execution_count": 76,
   "metadata": {},
   "outputs": [
    {
     "data": {
      "text/html": [
       "<div>\n",
       "<style scoped>\n",
       "    .dataframe tbody tr th:only-of-type {\n",
       "        vertical-align: middle;\n",
       "    }\n",
       "\n",
       "    .dataframe tbody tr th {\n",
       "        vertical-align: top;\n",
       "    }\n",
       "\n",
       "    .dataframe thead th {\n",
       "        text-align: right;\n",
       "    }\n",
       "</style>\n",
       "<table border=\"1\" class=\"dataframe\">\n",
       "  <thead>\n",
       "    <tr style=\"text-align: right;\">\n",
       "      <th></th>\n",
       "      <th>call_id</th>\n",
       "      <th>customer_id</th>\n",
       "      <th>agent_id</th>\n",
       "      <th>call_start_datetime</th>\n",
       "      <th>agent_assigned_datetime</th>\n",
       "      <th>call_end_datetime</th>\n",
       "      <th>call_transcript</th>\n",
       "    </tr>\n",
       "  </thead>\n",
       "  <tbody>\n",
       "    <tr>\n",
       "      <th>0</th>\n",
       "      <td>7732610078</td>\n",
       "      <td>4029953261</td>\n",
       "      <td>488324</td>\n",
       "      <td>8/1/2024 0:23</td>\n",
       "      <td>8/1/2024 0:34</td>\n",
       "      <td>8/1/2024 1:32</td>\n",
       "      <td>\\n\\nAgent: Thank you for calling United Airlin...</td>\n",
       "    </tr>\n",
       "    <tr>\n",
       "      <th>1</th>\n",
       "      <td>2400299738</td>\n",
       "      <td>2034858976</td>\n",
       "      <td>963118</td>\n",
       "      <td>8/1/2024 1:33</td>\n",
       "      <td>8/1/2024 1:41</td>\n",
       "      <td>8/1/2024 1:54</td>\n",
       "      <td>\\n\\nAgent: Thank you for calling United Airlin...</td>\n",
       "    </tr>\n",
       "    <tr>\n",
       "      <th>2</th>\n",
       "      <td>6533095063</td>\n",
       "      <td>1874845993</td>\n",
       "      <td>519057</td>\n",
       "      <td>8/1/2024 2:17</td>\n",
       "      <td>8/1/2024 2:27</td>\n",
       "      <td>8/1/2024 2:29</td>\n",
       "      <td>\\n\\nAgent: Thank you for calling United Airlin...</td>\n",
       "    </tr>\n",
       "    <tr>\n",
       "      <th>3</th>\n",
       "      <td>7774450920</td>\n",
       "      <td>2633426588</td>\n",
       "      <td>963118</td>\n",
       "      <td>8/1/2024 2:49</td>\n",
       "      <td>8/1/2024 2:53</td>\n",
       "      <td>8/1/2024 2:57</td>\n",
       "      <td>\\n\\nAgent: Thank you for calling United Airlin...</td>\n",
       "    </tr>\n",
       "    <tr>\n",
       "      <th>4</th>\n",
       "      <td>9214147168</td>\n",
       "      <td>8334856492</td>\n",
       "      <td>158319</td>\n",
       "      <td>8/1/2024 2:49</td>\n",
       "      <td>8/1/2024 2:55</td>\n",
       "      <td>8/1/2024 2:59</td>\n",
       "      <td>\\n\\nAgent: Thank you for calling United Airlin...</td>\n",
       "    </tr>\n",
       "  </tbody>\n",
       "</table>\n",
       "</div>"
      ],
      "text/plain": [
       "      call_id  customer_id  agent_id call_start_datetime  \\\n",
       "0  7732610078   4029953261    488324       8/1/2024 0:23   \n",
       "1  2400299738   2034858976    963118       8/1/2024 1:33   \n",
       "2  6533095063   1874845993    519057       8/1/2024 2:17   \n",
       "3  7774450920   2633426588    963118       8/1/2024 2:49   \n",
       "4  9214147168   8334856492    158319       8/1/2024 2:49   \n",
       "\n",
       "  agent_assigned_datetime call_end_datetime  \\\n",
       "0           8/1/2024 0:34     8/1/2024 1:32   \n",
       "1           8/1/2024 1:41     8/1/2024 1:54   \n",
       "2           8/1/2024 2:27     8/1/2024 2:29   \n",
       "3           8/1/2024 2:53     8/1/2024 2:57   \n",
       "4           8/1/2024 2:55     8/1/2024 2:59   \n",
       "\n",
       "                                     call_transcript  \n",
       "0  \\n\\nAgent: Thank you for calling United Airlin...  \n",
       "1  \\n\\nAgent: Thank you for calling United Airlin...  \n",
       "2  \\n\\nAgent: Thank you for calling United Airlin...  \n",
       "3  \\n\\nAgent: Thank you for calling United Airlin...  \n",
       "4  \\n\\nAgent: Thank you for calling United Airlin...  "
      ]
     },
     "execution_count": 76,
     "metadata": {},
     "output_type": "execute_result"
    }
   ],
   "source": [
    "test.head()"
   ]
  },
  {
   "cell_type": "code",
   "execution_count": 77,
   "metadata": {},
   "outputs": [
    {
     "data": {
      "text/plain": [
       "Index(['call_id', 'customer_id', 'agent_id', 'call_start_datetime',\n",
       "       'agent_assigned_datetime', 'call_end_datetime', 'call_transcript',\n",
       "       'primary_call_reason'],\n",
       "      dtype='object')"
      ]
     },
     "execution_count": 77,
     "metadata": {},
     "output_type": "execute_result"
    }
   ],
   "source": [
    "train.columns"
   ]
  },
  {
   "cell_type": "code",
   "execution_count": 78,
   "metadata": {},
   "outputs": [],
   "source": [
    "train.drop([ 'customer_id', 'agent_id', 'call_start_datetime',\n",
    "       'agent_assigned_datetime', 'call_end_datetime'], axis = 1, inplace = True)"
   ]
  },
  {
   "cell_type": "code",
   "execution_count": 79,
   "metadata": {},
   "outputs": [],
   "source": [
    "test.drop([ 'customer_id', 'agent_id', 'call_start_datetime',\n",
    "       'agent_assigned_datetime', 'call_end_datetime'], axis = 1, inplace = True)"
   ]
  },
  {
   "cell_type": "code",
   "execution_count": 80,
   "metadata": {},
   "outputs": [],
   "source": [
    "train = train.dropna(subset=['primary_call_reason'], axis=0)\n"
   ]
  },
  {
   "cell_type": "code",
   "execution_count": 81,
   "metadata": {},
   "outputs": [
    {
     "data": {
      "text/plain": [
       "(66653, 3)"
      ]
     },
     "execution_count": 81,
     "metadata": {},
     "output_type": "execute_result"
    }
   ],
   "source": [
    "train.shape"
   ]
  },
  {
   "cell_type": "code",
   "execution_count": 82,
   "metadata": {},
   "outputs": [
    {
     "data": {
      "text/html": [
       "<div>\n",
       "<style scoped>\n",
       "    .dataframe tbody tr th:only-of-type {\n",
       "        vertical-align: middle;\n",
       "    }\n",
       "\n",
       "    .dataframe tbody tr th {\n",
       "        vertical-align: top;\n",
       "    }\n",
       "\n",
       "    .dataframe thead th {\n",
       "        text-align: right;\n",
       "    }\n",
       "</style>\n",
       "<table border=\"1\" class=\"dataframe\">\n",
       "  <thead>\n",
       "    <tr style=\"text-align: right;\">\n",
       "      <th></th>\n",
       "      <th>call_id</th>\n",
       "      <th>call_transcript</th>\n",
       "      <th>primary_call_reason</th>\n",
       "    </tr>\n",
       "  </thead>\n",
       "  <tbody>\n",
       "    <tr>\n",
       "      <th>0</th>\n",
       "      <td>4667960400</td>\n",
       "      <td>\\n\\nAgent: Thank you for calling United Airlin...</td>\n",
       "      <td>Voluntary  Cancel</td>\n",
       "    </tr>\n",
       "    <tr>\n",
       "      <th>1</th>\n",
       "      <td>1122072124</td>\n",
       "      <td>\\n\\nAgent: Thank you for calling United Airlin...</td>\n",
       "      <td>Booking</td>\n",
       "    </tr>\n",
       "    <tr>\n",
       "      <th>2</th>\n",
       "      <td>6834291559</td>\n",
       "      <td>\\n\\nAgent: Thank you for calling United Airlin...</td>\n",
       "      <td>IRROPS</td>\n",
       "    </tr>\n",
       "    <tr>\n",
       "      <th>3</th>\n",
       "      <td>2266439882</td>\n",
       "      <td>\\n\\nAgent: Thank you for calling United Airlin...</td>\n",
       "      <td>Upgrade</td>\n",
       "    </tr>\n",
       "    <tr>\n",
       "      <th>4</th>\n",
       "      <td>1211603231</td>\n",
       "      <td>\\n\\nAgent: Thank you for calling United Airlin...</td>\n",
       "      <td>Seating</td>\n",
       "    </tr>\n",
       "  </tbody>\n",
       "</table>\n",
       "</div>"
      ],
      "text/plain": [
       "      call_id                                    call_transcript  \\\n",
       "0  4667960400  \\n\\nAgent: Thank you for calling United Airlin...   \n",
       "1  1122072124  \\n\\nAgent: Thank you for calling United Airlin...   \n",
       "2  6834291559  \\n\\nAgent: Thank you for calling United Airlin...   \n",
       "3  2266439882  \\n\\nAgent: Thank you for calling United Airlin...   \n",
       "4  1211603231  \\n\\nAgent: Thank you for calling United Airlin...   \n",
       "\n",
       "  primary_call_reason  \n",
       "0   Voluntary  Cancel  \n",
       "1             Booking  \n",
       "2              IRROPS  \n",
       "3             Upgrade  \n",
       "4             Seating  "
      ]
     },
     "execution_count": 82,
     "metadata": {},
     "output_type": "execute_result"
    }
   ],
   "source": [
    "train.head()"
   ]
  },
  {
   "cell_type": "code",
   "execution_count": 83,
   "metadata": {},
   "outputs": [
    {
     "data": {
      "text/html": [
       "<div>\n",
       "<style scoped>\n",
       "    .dataframe tbody tr th:only-of-type {\n",
       "        vertical-align: middle;\n",
       "    }\n",
       "\n",
       "    .dataframe tbody tr th {\n",
       "        vertical-align: top;\n",
       "    }\n",
       "\n",
       "    .dataframe thead th {\n",
       "        text-align: right;\n",
       "    }\n",
       "</style>\n",
       "<table border=\"1\" class=\"dataframe\">\n",
       "  <thead>\n",
       "    <tr style=\"text-align: right;\">\n",
       "      <th></th>\n",
       "      <th>call_id</th>\n",
       "      <th>call_transcript</th>\n",
       "    </tr>\n",
       "  </thead>\n",
       "  <tbody>\n",
       "    <tr>\n",
       "      <th>0</th>\n",
       "      <td>7732610078</td>\n",
       "      <td>\\n\\nAgent: Thank you for calling United Airlin...</td>\n",
       "    </tr>\n",
       "    <tr>\n",
       "      <th>1</th>\n",
       "      <td>2400299738</td>\n",
       "      <td>\\n\\nAgent: Thank you for calling United Airlin...</td>\n",
       "    </tr>\n",
       "    <tr>\n",
       "      <th>2</th>\n",
       "      <td>6533095063</td>\n",
       "      <td>\\n\\nAgent: Thank you for calling United Airlin...</td>\n",
       "    </tr>\n",
       "    <tr>\n",
       "      <th>3</th>\n",
       "      <td>7774450920</td>\n",
       "      <td>\\n\\nAgent: Thank you for calling United Airlin...</td>\n",
       "    </tr>\n",
       "    <tr>\n",
       "      <th>4</th>\n",
       "      <td>9214147168</td>\n",
       "      <td>\\n\\nAgent: Thank you for calling United Airlin...</td>\n",
       "    </tr>\n",
       "  </tbody>\n",
       "</table>\n",
       "</div>"
      ],
      "text/plain": [
       "      call_id                                    call_transcript\n",
       "0  7732610078  \\n\\nAgent: Thank you for calling United Airlin...\n",
       "1  2400299738  \\n\\nAgent: Thank you for calling United Airlin...\n",
       "2  6533095063  \\n\\nAgent: Thank you for calling United Airlin...\n",
       "3  7774450920  \\n\\nAgent: Thank you for calling United Airlin...\n",
       "4  9214147168  \\n\\nAgent: Thank you for calling United Airlin..."
      ]
     },
     "execution_count": 83,
     "metadata": {},
     "output_type": "execute_result"
    }
   ],
   "source": [
    "test.head()"
   ]
  },
  {
   "cell_type": "code",
   "execution_count": 84,
   "metadata": {},
   "outputs": [],
   "source": [
    "def clean_text(text):\n",
    "    text = text.replace('-', ' ')\n",
    "    text = ' '.join(text.split())\n",
    "    text = text.replace('and', '&')\n",
    "    return text\n"
   ]
  },
  {
   "cell_type": "code",
   "execution_count": 85,
   "metadata": {},
   "outputs": [],
   "source": [
    "train['primary_call_reason'] = train['primary_call_reason'].apply(clean_text)"
   ]
  },
  {
   "cell_type": "code",
   "execution_count": 86,
   "metadata": {},
   "outputs": [],
   "source": [
    "from sklearn.model_selection import train_test_split\n",
    "train['call_transcript'] = train['call_transcript'].str.strip()\n",
    "\n",
    "X_train, X_val, y_train, y_val = train_test_split(train['call_transcript'], \n",
    "                                                  train['primary_call_reason'], \n",
    "                                                  test_size=0.2, \n",
    "                                                  random_state=42,\n",
    "                                                  stratify=train['primary_call_reason'])  # Stratify by the target column"
   ]
  },
  {
   "cell_type": "code",
   "execution_count": 87,
   "metadata": {},
   "outputs": [],
   "source": [
    "from sklearn.preprocessing import LabelEncoder\n",
    "\n",
    "label_encoder = LabelEncoder()\n",
    "y_train = label_encoder.fit_transform(y_train)\n",
    "y_val = label_encoder.transform(y_val)\n",
    "\n",
    "class_names = label_encoder.classes_\n"
   ]
  },
  {
   "cell_type": "code",
   "execution_count": 88,
   "metadata": {},
   "outputs": [
    {
     "name": "stdout",
     "output_type": "stream",
     "text": [
      "20\n"
     ]
    }
   ],
   "source": [
    "print(len(class_names))"
   ]
  },
  {
   "cell_type": "code",
   "execution_count": 89,
   "metadata": {},
   "outputs": [],
   "source": [
    "import tensorflow as tf\n",
    "from tensorflow.keras.preprocessing.text import Tokenizer\n",
    "from tensorflow.keras.preprocessing.sequence import pad_sequences"
   ]
  },
  {
   "cell_type": "code",
   "execution_count": 90,
   "metadata": {},
   "outputs": [],
   "source": [
    "tokenizer = Tokenizer(num_words=10000, oov_token='<OOV>')\n",
    "tokenizer.fit_on_texts(X_train)\n",
    "\n",
    "X_train_tokens = tokenizer.texts_to_sequences(X_train)\n",
    "X_val_tokens = tokenizer.texts_to_sequences(X_val)\n",
    "\n",
    "max_length = 128\n",
    "X_train_padded = pad_sequences(X_train_tokens, maxlen=max_length, padding='post', truncating='post')\n",
    "X_val_padded = pad_sequences(X_val_tokens, maxlen=max_length, padding='post', truncating='post')"
   ]
  },
  {
   "cell_type": "code",
   "execution_count": 91,
   "metadata": {},
   "outputs": [
    {
     "name": "stderr",
     "output_type": "stream",
     "text": [
      "c:\\PythonPersonal\\Extras\\myvenv\\lib\\site-packages\\keras\\src\\layers\\core\\embedding.py:90: UserWarning: Argument `input_length` is deprecated. Just remove it.\n",
      "  warnings.warn(\n"
     ]
    },
    {
     "data": {
      "text/html": [
       "<pre style=\"white-space:pre;overflow-x:auto;line-height:normal;font-family:Menlo,'DejaVu Sans Mono',consolas,'Courier New',monospace\"><span style=\"font-weight: bold\">Model: \"sequential_13\"</span>\n",
       "</pre>\n"
      ],
      "text/plain": [
       "\u001b[1mModel: \"sequential_13\"\u001b[0m\n"
      ]
     },
     "metadata": {},
     "output_type": "display_data"
    },
    {
     "data": {
      "text/html": [
       "<pre style=\"white-space:pre;overflow-x:auto;line-height:normal;font-family:Menlo,'DejaVu Sans Mono',consolas,'Courier New',monospace\">┏━━━━━━━━━━━━━━━━━━━━━━━━━━━━━━━━━┳━━━━━━━━━━━━━━━━━━━━━━━━┳━━━━━━━━━━━━━━━┓\n",
       "┃<span style=\"font-weight: bold\"> Layer (type)                    </span>┃<span style=\"font-weight: bold\"> Output Shape           </span>┃<span style=\"font-weight: bold\">       Param # </span>┃\n",
       "┡━━━━━━━━━━━━━━━━━━━━━━━━━━━━━━━━━╇━━━━━━━━━━━━━━━━━━━━━━━━╇━━━━━━━━━━━━━━━┩\n",
       "│ embedding (<span style=\"color: #0087ff; text-decoration-color: #0087ff\">Embedding</span>)           │ ?                      │   <span style=\"color: #00af00; text-decoration-color: #00af00\">0</span> (unbuilt) │\n",
       "├─────────────────────────────────┼────────────────────────┼───────────────┤\n",
       "│ bidirectional (<span style=\"color: #0087ff; text-decoration-color: #0087ff\">Bidirectional</span>)   │ ?                      │   <span style=\"color: #00af00; text-decoration-color: #00af00\">0</span> (unbuilt) │\n",
       "├─────────────────────────────────┼────────────────────────┼───────────────┤\n",
       "│ bidirectional_1 (<span style=\"color: #0087ff; text-decoration-color: #0087ff\">Bidirectional</span>) │ ?                      │   <span style=\"color: #00af00; text-decoration-color: #00af00\">0</span> (unbuilt) │\n",
       "├─────────────────────────────────┼────────────────────────┼───────────────┤\n",
       "│ dense_47 (<span style=\"color: #0087ff; text-decoration-color: #0087ff\">Dense</span>)                │ ?                      │   <span style=\"color: #00af00; text-decoration-color: #00af00\">0</span> (unbuilt) │\n",
       "├─────────────────────────────────┼────────────────────────┼───────────────┤\n",
       "│ dense_48 (<span style=\"color: #0087ff; text-decoration-color: #0087ff\">Dense</span>)                │ ?                      │   <span style=\"color: #00af00; text-decoration-color: #00af00\">0</span> (unbuilt) │\n",
       "└─────────────────────────────────┴────────────────────────┴───────────────┘\n",
       "</pre>\n"
      ],
      "text/plain": [
       "┏━━━━━━━━━━━━━━━━━━━━━━━━━━━━━━━━━┳━━━━━━━━━━━━━━━━━━━━━━━━┳━━━━━━━━━━━━━━━┓\n",
       "┃\u001b[1m \u001b[0m\u001b[1mLayer (type)                   \u001b[0m\u001b[1m \u001b[0m┃\u001b[1m \u001b[0m\u001b[1mOutput Shape          \u001b[0m\u001b[1m \u001b[0m┃\u001b[1m \u001b[0m\u001b[1m      Param #\u001b[0m\u001b[1m \u001b[0m┃\n",
       "┡━━━━━━━━━━━━━━━━━━━━━━━━━━━━━━━━━╇━━━━━━━━━━━━━━━━━━━━━━━━╇━━━━━━━━━━━━━━━┩\n",
       "│ embedding (\u001b[38;5;33mEmbedding\u001b[0m)           │ ?                      │   \u001b[38;5;34m0\u001b[0m (unbuilt) │\n",
       "├─────────────────────────────────┼────────────────────────┼───────────────┤\n",
       "│ bidirectional (\u001b[38;5;33mBidirectional\u001b[0m)   │ ?                      │   \u001b[38;5;34m0\u001b[0m (unbuilt) │\n",
       "├─────────────────────────────────┼────────────────────────┼───────────────┤\n",
       "│ bidirectional_1 (\u001b[38;5;33mBidirectional\u001b[0m) │ ?                      │   \u001b[38;5;34m0\u001b[0m (unbuilt) │\n",
       "├─────────────────────────────────┼────────────────────────┼───────────────┤\n",
       "│ dense_47 (\u001b[38;5;33mDense\u001b[0m)                │ ?                      │   \u001b[38;5;34m0\u001b[0m (unbuilt) │\n",
       "├─────────────────────────────────┼────────────────────────┼───────────────┤\n",
       "│ dense_48 (\u001b[38;5;33mDense\u001b[0m)                │ ?                      │   \u001b[38;5;34m0\u001b[0m (unbuilt) │\n",
       "└─────────────────────────────────┴────────────────────────┴───────────────┘\n"
      ]
     },
     "metadata": {},
     "output_type": "display_data"
    },
    {
     "data": {
      "text/html": [
       "<pre style=\"white-space:pre;overflow-x:auto;line-height:normal;font-family:Menlo,'DejaVu Sans Mono',consolas,'Courier New',monospace\"><span style=\"font-weight: bold\"> Total params: </span><span style=\"color: #00af00; text-decoration-color: #00af00\">0</span> (0.00 B)\n",
       "</pre>\n"
      ],
      "text/plain": [
       "\u001b[1m Total params: \u001b[0m\u001b[38;5;34m0\u001b[0m (0.00 B)\n"
      ]
     },
     "metadata": {},
     "output_type": "display_data"
    },
    {
     "data": {
      "text/html": [
       "<pre style=\"white-space:pre;overflow-x:auto;line-height:normal;font-family:Menlo,'DejaVu Sans Mono',consolas,'Courier New',monospace\"><span style=\"font-weight: bold\"> Trainable params: </span><span style=\"color: #00af00; text-decoration-color: #00af00\">0</span> (0.00 B)\n",
       "</pre>\n"
      ],
      "text/plain": [
       "\u001b[1m Trainable params: \u001b[0m\u001b[38;5;34m0\u001b[0m (0.00 B)\n"
      ]
     },
     "metadata": {},
     "output_type": "display_data"
    },
    {
     "data": {
      "text/html": [
       "<pre style=\"white-space:pre;overflow-x:auto;line-height:normal;font-family:Menlo,'DejaVu Sans Mono',consolas,'Courier New',monospace\"><span style=\"font-weight: bold\"> Non-trainable params: </span><span style=\"color: #00af00; text-decoration-color: #00af00\">0</span> (0.00 B)\n",
       "</pre>\n"
      ],
      "text/plain": [
       "\u001b[1m Non-trainable params: \u001b[0m\u001b[38;5;34m0\u001b[0m (0.00 B)\n"
      ]
     },
     "metadata": {},
     "output_type": "display_data"
    }
   ],
   "source": [
    "model = tf.keras.Sequential([\n",
    "    tf.keras.layers.Embedding(input_dim=10000, output_dim=64, input_length=128),\n",
    "    tf.keras.layers.Bidirectional(tf.keras.layers.LSTM(64, return_sequences=True)),\n",
    "    tf.keras.layers.Bidirectional(tf.keras.layers.LSTM(32)),\n",
    "    tf.keras.layers.Dense(32, activation='relu'),\n",
    "    tf.keras.layers.Dense(len(label_encoder.classes_), activation='softmax')\n",
    "])\n",
    "\n",
    "model.compile(loss='sparse_categorical_crossentropy', \n",
    "              optimizer='adam', \n",
    "              metrics=['accuracy'])\n",
    "\n",
    "model.summary()\n",
    "\n"
   ]
  },
  {
   "cell_type": "code",
   "execution_count": 92,
   "metadata": {},
   "outputs": [
    {
     "name": "stdout",
     "output_type": "stream",
     "text": [
      "Epoch 1/5\n",
      "\u001b[1m1667/1667\u001b[0m \u001b[32m━━━━━━━━━━━━━━━━━━━━\u001b[0m\u001b[37m\u001b[0m \u001b[1m71s\u001b[0m 41ms/step - accuracy: 0.1881 - loss: 2.6141 - val_accuracy: 0.2106 - val_loss: 2.5382\n",
      "Epoch 2/5\n",
      "\u001b[1m1667/1667\u001b[0m \u001b[32m━━━━━━━━━━━━━━━━━━━━\u001b[0m\u001b[37m\u001b[0m \u001b[1m72s\u001b[0m 43ms/step - accuracy: 0.2192 - loss: 2.5292 - val_accuracy: 0.2158 - val_loss: 2.5306\n",
      "Epoch 3/5\n",
      "\u001b[1m1667/1667\u001b[0m \u001b[32m━━━━━━━━━━━━━━━━━━━━\u001b[0m\u001b[37m\u001b[0m \u001b[1m72s\u001b[0m 43ms/step - accuracy: 0.2262 - loss: 2.5037 - val_accuracy: 0.2211 - val_loss: 2.5161\n",
      "Epoch 4/5\n",
      "\u001b[1m1667/1667\u001b[0m \u001b[32m━━━━━━━━━━━━━━━━━━━━\u001b[0m\u001b[37m\u001b[0m \u001b[1m70s\u001b[0m 42ms/step - accuracy: 0.2328 - loss: 2.4843 - val_accuracy: 0.2181 - val_loss: 2.5244\n",
      "Epoch 5/5\n",
      "\u001b[1m1667/1667\u001b[0m \u001b[32m━━━━━━━━━━━━━━━━━━━━\u001b[0m\u001b[37m\u001b[0m \u001b[1m74s\u001b[0m 44ms/step - accuracy: 0.2396 - loss: 2.4565 - val_accuracy: 0.2188 - val_loss: 2.5352\n"
     ]
    }
   ],
   "source": [
    "history = model.fit(X_train_padded, y_train, \n",
    "                    epochs=5, \n",
    "                    validation_data=(X_val_padded, y_val),\n",
    "                    batch_size=32)"
   ]
  },
  {
   "cell_type": "code",
   "execution_count": 93,
   "metadata": {},
   "outputs": [
    {
     "name": "stdout",
     "output_type": "stream",
     "text": [
      "\u001b[1m417/417\u001b[0m \u001b[32m━━━━━━━━━━━━━━━━━━━━\u001b[0m\u001b[37m\u001b[0m \u001b[1m5s\u001b[0m 13ms/step - accuracy: 0.2157 - loss: 2.5350\n",
      "Validation Accuracy: 0.2188\n"
     ]
    }
   ],
   "source": [
    "val_loss, val_acc = model.evaluate(X_val_padded, y_val)\n",
    "print(f\"Validation Accuracy: {val_acc:.4f}\")\n"
   ]
  },
  {
   "cell_type": "code",
   "execution_count": 94,
   "metadata": {},
   "outputs": [
    {
     "name": "stdout",
     "output_type": "stream",
     "text": [
      "6915     Agent: Thank you for calling United Airlines, ...\n",
      "32375    Agent: Thank you for calling United Airlines c...\n",
      "4922     Agent: Thank you for calling United Airlines c...\n",
      "66056    Agent: Thank you for calling United Airlines, ...\n",
      "2995     Agent: Thank you for calling United Airlines, ...\n",
      "                               ...                        \n",
      "50351    Agent: Thank you for calling United Airlines c...\n",
      "29091    Agent: Thank you for calling United Airlines, ...\n",
      "40945    Agent: Thank you for calling United Airlines c...\n",
      "38138    Agent: Thank you for calling United Airlines, ...\n",
      "24505    Agent: Thank you for calling United Airlines, ...\n",
      "Name: call_transcript, Length: 53322, dtype: object\n",
      "[13  4  8 ...  1 12  9]\n",
      "62897    Agent: Thank you for calling United Airlines, ...\n",
      "34373    Agent: Thank you for calling United Airlines c...\n",
      "14224    Agent: Thank you for calling United Airlines, ...\n",
      "64763    Agent: Thank you for calling United Airlines, ...\n",
      "37384    Agent: Thank you for calling United Airlines c...\n",
      "                               ...                        \n",
      "65111    Agent: Thank you for calling United Airlines c...\n",
      "58696    Agent: Thank you for calling United Airlines, ...\n",
      "22653    Agent: Thank you for calling United Airlines, ...\n",
      "9646     Agent: Thank you for calling United customer s...\n",
      "13915    Agent: Thank you for calling United Airlines c...\n",
      "Name: call_transcript, Length: 13331, dtype: object\n",
      "[ 8  8 11 ... 14  8  4]\n"
     ]
    }
   ],
   "source": [
    "print(X_train)\n",
    "print(y_train)\n",
    "print(X_val)\n",
    "print(y_val)"
   ]
  },
  {
   "cell_type": "code",
   "execution_count": 95,
   "metadata": {},
   "outputs": [
    {
     "name": "stderr",
     "output_type": "stream",
     "text": [
      "[nltk_data] Downloading package stopwords to\n",
      "[nltk_data]     C:\\Users\\shaun\\AppData\\Roaming\\nltk_data...\n",
      "[nltk_data]   Package stopwords is already up-to-date!\n"
     ]
    }
   ],
   "source": [
    "import nltk\n",
    "from nltk.corpus import stopwords\n",
    "\n",
    "nltk.download('stopwords')\n",
    "\n",
    "stop_words = set(stopwords.words('english'))\n",
    "def preprocess_text(text):\n",
    "    words = text.split()\n",
    "    filtered_words = [word for word in words if word.lower() not in stop_words]\n",
    "    return ' '.join(filtered_words[:50])  \n",
    "\n",
    "X_train_truncated = X_train.apply(preprocess_text)\n",
    "X_val_truncated = X_val.apply(preprocess_text)\n",
    "\n",
    "embed = hub.load(\"https://tfhub.dev/google/universal-sentence-encoder/4\")\n",
    "\n",
    "def embed_in_batches(data, batch_size=32):\n",
    "    embeddings = []\n",
    "    for i in range(0, len(data), batch_size):\n",
    "        batch = data[i:i + batch_size]\n",
    "        batch_embeddings = embed(batch.tolist())\n",
    "        embeddings.append(batch_embeddings)\n",
    "    return np.concatenate(embeddings)\n",
    "\n",
    "X_train_embeddings = embed_in_batches(X_train_truncated)\n",
    "X_val_embeddings = embed_in_batches(X_val_truncated)"
   ]
  },
  {
   "cell_type": "code",
   "execution_count": 96,
   "metadata": {},
   "outputs": [
    {
     "name": "stdout",
     "output_type": "stream",
     "text": [
      "Epoch 1/20\n"
     ]
    },
    {
     "name": "stderr",
     "output_type": "stream",
     "text": [
      "c:\\PythonPersonal\\Extras\\myvenv\\lib\\site-packages\\keras\\src\\layers\\core\\input_layer.py:26: UserWarning: Argument `input_shape` is deprecated. Use `shape` instead.\n",
      "  warnings.warn(\n"
     ]
    },
    {
     "name": "stdout",
     "output_type": "stream",
     "text": [
      "\u001b[1m834/834\u001b[0m \u001b[32m━━━━━━━━━━━━━━━━━━━━\u001b[0m\u001b[37m\u001b[0m \u001b[1m3s\u001b[0m 3ms/step - accuracy: 0.1956 - loss: 2.6024 - val_accuracy: 0.1939 - val_loss: 2.5657\n",
      "Epoch 2/20\n",
      "\u001b[1m834/834\u001b[0m \u001b[32m━━━━━━━━━━━━━━━━━━━━\u001b[0m\u001b[37m\u001b[0m \u001b[1m2s\u001b[0m 3ms/step - accuracy: 0.2070 - loss: 2.5587 - val_accuracy: 0.2037 - val_loss: 2.5551\n",
      "Epoch 3/20\n",
      "\u001b[1m834/834\u001b[0m \u001b[32m━━━━━━━━━━━━━━━━━━━━\u001b[0m\u001b[37m\u001b[0m \u001b[1m2s\u001b[0m 3ms/step - accuracy: 0.2078 - loss: 2.5444 - val_accuracy: 0.2085 - val_loss: 2.5498\n",
      "Epoch 4/20\n",
      "\u001b[1m834/834\u001b[0m \u001b[32m━━━━━━━━━━━━━━━━━━━━\u001b[0m\u001b[37m\u001b[0m \u001b[1m2s\u001b[0m 3ms/step - accuracy: 0.2133 - loss: 2.5326 - val_accuracy: 0.2109 - val_loss: 2.5481\n",
      "Epoch 5/20\n",
      "\u001b[1m834/834\u001b[0m \u001b[32m━━━━━━━━━━━━━━━━━━━━\u001b[0m\u001b[37m\u001b[0m \u001b[1m2s\u001b[0m 3ms/step - accuracy: 0.2149 - loss: 2.5364 - val_accuracy: 0.2132 - val_loss: 2.5445\n",
      "Epoch 6/20\n",
      "\u001b[1m834/834\u001b[0m \u001b[32m━━━━━━━━━━━━━━━━━━━━\u001b[0m\u001b[37m\u001b[0m \u001b[1m2s\u001b[0m 3ms/step - accuracy: 0.2193 - loss: 2.5191 - val_accuracy: 0.2099 - val_loss: 2.5528\n",
      "Epoch 7/20\n",
      "\u001b[1m834/834\u001b[0m \u001b[32m━━━━━━━━━━━━━━━━━━━━\u001b[0m\u001b[37m\u001b[0m \u001b[1m3s\u001b[0m 3ms/step - accuracy: 0.2218 - loss: 2.5183 - val_accuracy: 0.2146 - val_loss: 2.5371\n",
      "Epoch 8/20\n",
      "\u001b[1m834/834\u001b[0m \u001b[32m━━━━━━━━━━━━━━━━━━━━\u001b[0m\u001b[37m\u001b[0m \u001b[1m3s\u001b[0m 3ms/step - accuracy: 0.2217 - loss: 2.5047 - val_accuracy: 0.2111 - val_loss: 2.5652\n",
      "Epoch 9/20\n",
      "\u001b[1m834/834\u001b[0m \u001b[32m━━━━━━━━━━━━━━━━━━━━\u001b[0m\u001b[37m\u001b[0m \u001b[1m2s\u001b[0m 3ms/step - accuracy: 0.2242 - loss: 2.5079 - val_accuracy: 0.2133 - val_loss: 2.5377\n",
      "Epoch 10/20\n",
      "\u001b[1m834/834\u001b[0m \u001b[32m━━━━━━━━━━━━━━━━━━━━\u001b[0m\u001b[37m\u001b[0m \u001b[1m2s\u001b[0m 3ms/step - accuracy: 0.2282 - loss: 2.4980 - val_accuracy: 0.2133 - val_loss: 2.5349\n",
      "Epoch 11/20\n",
      "\u001b[1m834/834\u001b[0m \u001b[32m━━━━━━━━━━━━━━━━━━━━\u001b[0m\u001b[37m\u001b[0m \u001b[1m3s\u001b[0m 3ms/step - accuracy: 0.2284 - loss: 2.4923 - val_accuracy: 0.2156 - val_loss: 2.5430\n",
      "Epoch 12/20\n",
      "\u001b[1m834/834\u001b[0m \u001b[32m━━━━━━━━━━━━━━━━━━━━\u001b[0m\u001b[37m\u001b[0m \u001b[1m3s\u001b[0m 3ms/step - accuracy: 0.2316 - loss: 2.4789 - val_accuracy: 0.2139 - val_loss: 2.5463\n",
      "Epoch 13/20\n",
      "\u001b[1m834/834\u001b[0m \u001b[32m━━━━━━━━━━━━━━━━━━━━\u001b[0m\u001b[37m\u001b[0m \u001b[1m3s\u001b[0m 3ms/step - accuracy: 0.2378 - loss: 2.4602 - val_accuracy: 0.2137 - val_loss: 2.5438\n"
     ]
    },
    {
     "data": {
      "text/plain": [
       "<keras.src.callbacks.history.History at 0x29f34f6cc70>"
      ]
     },
     "execution_count": 96,
     "metadata": {},
     "output_type": "execute_result"
    }
   ],
   "source": [
    "model = tf.keras.Sequential([\n",
    "    tf.keras.layers.InputLayer(input_shape=(512,)),  \n",
    "    tf.keras.layers.Dense(512, activation='relu'),   \n",
    "    tf.keras.layers.Dense(256, activation='relu'),   \n",
    "    tf.keras.layers.Dense(128, activation='relu'),    \n",
    "    tf.keras.layers.Dense(20, activation='softmax')    \n",
    "])\n",
    "\n",
    "model.compile(optimizer=tf.keras.optimizers.Adam(learning_rate=0.001), \n",
    "              loss='sparse_categorical_crossentropy', \n",
    "              metrics=['accuracy'])\n",
    "\n",
    "model.fit(X_train_embeddings, y_train, \n",
    "          validation_data=(X_val_embeddings, y_val), \n",
    "          epochs=20, \n",
    "          batch_size=64,  \n",
    "          callbacks=[tf.keras.callbacks.EarlyStopping(monitor='val_loss', patience=3)])"
   ]
  },
  {
   "cell_type": "code",
   "execution_count": null,
   "metadata": {},
   "outputs": [],
   "source": []
  },
  {
   "cell_type": "code",
   "execution_count": 97,
   "metadata": {},
   "outputs": [
    {
     "name": "stdout",
     "output_type": "stream",
     "text": [
      "\u001b[1m417/417\u001b[0m \u001b[32m━━━━━━━━━━━━━━━━━━━━\u001b[0m\u001b[37m\u001b[0m \u001b[1m0s\u001b[0m 932us/step - accuracy: 0.2107 - loss: 2.5448\n",
      "Validation Accuracy: 0.2137123942375183\n"
     ]
    }
   ],
   "source": [
    "# Evaluate the model\n",
    "val_loss, val_accuracy = model.evaluate(X_val_embeddings, y_val)\n",
    "print(f'Validation Accuracy: {val_accuracy}')"
   ]
  },
  {
   "cell_type": "code",
   "execution_count": 98,
   "metadata": {},
   "outputs": [
    {
     "name": "stdout",
     "output_type": "stream",
     "text": [
      "Epoch 1/20\n",
      "\u001b[1m834/834\u001b[0m \u001b[32m━━━━━━━━━━━━━━━━━━━━\u001b[0m\u001b[37m\u001b[0m \u001b[1m3s\u001b[0m 3ms/step - accuracy: 0.1970 - loss: 2.6103 - val_accuracy: 0.2045 - val_loss: 2.5592\n",
      "Epoch 2/20\n",
      "\u001b[1m834/834\u001b[0m \u001b[32m━━━━━━━━━━━━━━━━━━━━\u001b[0m\u001b[37m\u001b[0m \u001b[1m2s\u001b[0m 3ms/step - accuracy: 0.2066 - loss: 2.5552 - val_accuracy: 0.2066 - val_loss: 2.5461\n",
      "Epoch 3/20\n",
      "\u001b[1m834/834\u001b[0m \u001b[32m━━━━━━━━━━━━━━━━━━━━\u001b[0m\u001b[37m\u001b[0m \u001b[1m2s\u001b[0m 3ms/step - accuracy: 0.2111 - loss: 2.5405 - val_accuracy: 0.2075 - val_loss: 2.5513\n",
      "Epoch 4/20\n",
      "\u001b[1m834/834\u001b[0m \u001b[32m━━━━━━━━━━━━━━━━━━━━\u001b[0m\u001b[37m\u001b[0m \u001b[1m2s\u001b[0m 3ms/step - accuracy: 0.2120 - loss: 2.5333 - val_accuracy: 0.2090 - val_loss: 2.5457\n",
      "Epoch 5/20\n",
      "\u001b[1m834/834\u001b[0m \u001b[32m━━━━━━━━━━━━━━━━━━━━\u001b[0m\u001b[37m\u001b[0m \u001b[1m2s\u001b[0m 3ms/step - accuracy: 0.2142 - loss: 2.5363 - val_accuracy: 0.2117 - val_loss: 2.5433\n",
      "Epoch 6/20\n",
      "\u001b[1m834/834\u001b[0m \u001b[32m━━━━━━━━━━━━━━━━━━━━\u001b[0m\u001b[37m\u001b[0m \u001b[1m2s\u001b[0m 3ms/step - accuracy: 0.2160 - loss: 2.5300 - val_accuracy: 0.2127 - val_loss: 2.5379\n",
      "Epoch 7/20\n",
      "\u001b[1m834/834\u001b[0m \u001b[32m━━━━━━━━━━━━━━━━━━━━\u001b[0m\u001b[37m\u001b[0m \u001b[1m2s\u001b[0m 3ms/step - accuracy: 0.2181 - loss: 2.5172 - val_accuracy: 0.2127 - val_loss: 2.5329\n",
      "Epoch 8/20\n",
      "\u001b[1m834/834\u001b[0m \u001b[32m━━━━━━━━━━━━━━━━━━━━\u001b[0m\u001b[37m\u001b[0m \u001b[1m3s\u001b[0m 3ms/step - accuracy: 0.2187 - loss: 2.5116 - val_accuracy: 0.2116 - val_loss: 2.5346\n",
      "Epoch 9/20\n",
      "\u001b[1m834/834\u001b[0m \u001b[32m━━━━━━━━━━━━━━━━━━━━\u001b[0m\u001b[37m\u001b[0m \u001b[1m3s\u001b[0m 3ms/step - accuracy: 0.2197 - loss: 2.5122 - val_accuracy: 0.2148 - val_loss: 2.5364\n",
      "Epoch 10/20\n",
      "\u001b[1m834/834\u001b[0m \u001b[32m━━━━━━━━━━━━━━━━━━━━\u001b[0m\u001b[37m\u001b[0m \u001b[1m2s\u001b[0m 3ms/step - accuracy: 0.2224 - loss: 2.5072 - val_accuracy: 0.2134 - val_loss: 2.5355\n"
     ]
    },
    {
     "data": {
      "text/plain": [
       "<keras.src.callbacks.history.History at 0x29e8d964490>"
      ]
     },
     "execution_count": 98,
     "metadata": {},
     "output_type": "execute_result"
    }
   ],
   "source": [
    "X_train_embeddings = np.expand_dims(X_train_embeddings, axis=1)\n",
    "X_val_embeddings = np.expand_dims(X_val_embeddings, axis=1)\n",
    "\n",
    "model = tf.keras.Sequential([\n",
    "    tf.keras.layers.InputLayer(input_shape=(1, 512)),  \n",
    "    tf.keras.layers.LSTM(128, return_sequences=False), \n",
    "    tf.keras.layers.Dense(128, activation='relu'),     \n",
    "    tf.keras.layers.Dense(20, activation='softmax')   \n",
    "])\n",
    "\n",
    "model.compile(optimizer=tf.keras.optimizers.Adam(learning_rate=0.001), \n",
    "              loss='sparse_categorical_crossentropy', \n",
    "              metrics=['accuracy'])\n",
    "\n",
    "\n",
    "model.fit(X_train_embeddings, y_train, \n",
    "          validation_data=(X_val_embeddings, y_val), \n",
    "          epochs=20, \n",
    "          batch_size=64,  \n",
    "          callbacks=[tf.keras.callbacks.EarlyStopping(monitor='val_loss', patience=3)])  "
   ]
  },
  {
   "cell_type": "code",
   "execution_count": 99,
   "metadata": {},
   "outputs": [
    {
     "name": "stdout",
     "output_type": "stream",
     "text": [
      "\u001b[1m417/417\u001b[0m \u001b[32m━━━━━━━━━━━━━━━━━━━━\u001b[0m\u001b[37m\u001b[0m \u001b[1m0s\u001b[0m 1ms/step - accuracy: 0.2114 - loss: 2.5356\n",
      "Validation Accuracy: 0.213412344455719\n"
     ]
    }
   ],
   "source": [
    "val_loss, val_accuracy = model.evaluate(X_val_embeddings, y_val)\n",
    "print(f'Validation Accuracy: {val_accuracy}')\n"
   ]
  },
  {
   "cell_type": "code",
   "execution_count": 100,
   "metadata": {},
   "outputs": [
    {
     "data": {
      "text/html": [
       "<pre style=\"white-space:pre;overflow-x:auto;line-height:normal;font-family:Menlo,'DejaVu Sans Mono',consolas,'Courier New',monospace\"><span style=\"font-weight: bold\">Model: \"sequential_16\"</span>\n",
       "</pre>\n"
      ],
      "text/plain": [
       "\u001b[1mModel: \"sequential_16\"\u001b[0m\n"
      ]
     },
     "metadata": {},
     "output_type": "display_data"
    },
    {
     "data": {
      "text/html": [
       "<pre style=\"white-space:pre;overflow-x:auto;line-height:normal;font-family:Menlo,'DejaVu Sans Mono',consolas,'Courier New',monospace\">┏━━━━━━━━━━━━━━━━━━━━━━━━━━━━━━━━━┳━━━━━━━━━━━━━━━━━━━━━━━━┳━━━━━━━━━━━━━━━┓\n",
       "┃<span style=\"font-weight: bold\"> Layer (type)                    </span>┃<span style=\"font-weight: bold\"> Output Shape           </span>┃<span style=\"font-weight: bold\">       Param # </span>┃\n",
       "┡━━━━━━━━━━━━━━━━━━━━━━━━━━━━━━━━━╇━━━━━━━━━━━━━━━━━━━━━━━━╇━━━━━━━━━━━━━━━┩\n",
       "│ lstm_6 (<span style=\"color: #0087ff; text-decoration-color: #0087ff\">LSTM</span>)                   │ (<span style=\"color: #00d7ff; text-decoration-color: #00d7ff\">None</span>, <span style=\"color: #00af00; text-decoration-color: #00af00\">1</span>, <span style=\"color: #00af00; text-decoration-color: #00af00\">256</span>)         │       <span style=\"color: #00af00; text-decoration-color: #00af00\">787,456</span> │\n",
       "├─────────────────────────────────┼────────────────────────┼───────────────┤\n",
       "│ dropout_16 (<span style=\"color: #0087ff; text-decoration-color: #0087ff\">Dropout</span>)            │ (<span style=\"color: #00d7ff; text-decoration-color: #00d7ff\">None</span>, <span style=\"color: #00af00; text-decoration-color: #00af00\">1</span>, <span style=\"color: #00af00; text-decoration-color: #00af00\">256</span>)         │             <span style=\"color: #00af00; text-decoration-color: #00af00\">0</span> │\n",
       "├─────────────────────────────────┼────────────────────────┼───────────────┤\n",
       "│ lstm_7 (<span style=\"color: #0087ff; text-decoration-color: #0087ff\">LSTM</span>)                   │ (<span style=\"color: #00d7ff; text-decoration-color: #00d7ff\">None</span>, <span style=\"color: #00af00; text-decoration-color: #00af00\">128</span>)            │       <span style=\"color: #00af00; text-decoration-color: #00af00\">197,120</span> │\n",
       "├─────────────────────────────────┼────────────────────────┼───────────────┤\n",
       "│ dropout_17 (<span style=\"color: #0087ff; text-decoration-color: #0087ff\">Dropout</span>)            │ (<span style=\"color: #00d7ff; text-decoration-color: #00d7ff\">None</span>, <span style=\"color: #00af00; text-decoration-color: #00af00\">128</span>)            │             <span style=\"color: #00af00; text-decoration-color: #00af00\">0</span> │\n",
       "├─────────────────────────────────┼────────────────────────┼───────────────┤\n",
       "│ dense_55 (<span style=\"color: #0087ff; text-decoration-color: #0087ff\">Dense</span>)                │ (<span style=\"color: #00d7ff; text-decoration-color: #00d7ff\">None</span>, <span style=\"color: #00af00; text-decoration-color: #00af00\">256</span>)            │        <span style=\"color: #00af00; text-decoration-color: #00af00\">33,024</span> │\n",
       "├─────────────────────────────────┼────────────────────────┼───────────────┤\n",
       "│ dense_56 (<span style=\"color: #0087ff; text-decoration-color: #0087ff\">Dense</span>)                │ (<span style=\"color: #00d7ff; text-decoration-color: #00d7ff\">None</span>, <span style=\"color: #00af00; text-decoration-color: #00af00\">128</span>)            │        <span style=\"color: #00af00; text-decoration-color: #00af00\">32,896</span> │\n",
       "├─────────────────────────────────┼────────────────────────┼───────────────┤\n",
       "│ dense_57 (<span style=\"color: #0087ff; text-decoration-color: #0087ff\">Dense</span>)                │ (<span style=\"color: #00d7ff; text-decoration-color: #00d7ff\">None</span>, <span style=\"color: #00af00; text-decoration-color: #00af00\">20</span>)             │         <span style=\"color: #00af00; text-decoration-color: #00af00\">2,580</span> │\n",
       "└─────────────────────────────────┴────────────────────────┴───────────────┘\n",
       "</pre>\n"
      ],
      "text/plain": [
       "┏━━━━━━━━━━━━━━━━━━━━━━━━━━━━━━━━━┳━━━━━━━━━━━━━━━━━━━━━━━━┳━━━━━━━━━━━━━━━┓\n",
       "┃\u001b[1m \u001b[0m\u001b[1mLayer (type)                   \u001b[0m\u001b[1m \u001b[0m┃\u001b[1m \u001b[0m\u001b[1mOutput Shape          \u001b[0m\u001b[1m \u001b[0m┃\u001b[1m \u001b[0m\u001b[1m      Param #\u001b[0m\u001b[1m \u001b[0m┃\n",
       "┡━━━━━━━━━━━━━━━━━━━━━━━━━━━━━━━━━╇━━━━━━━━━━━━━━━━━━━━━━━━╇━━━━━━━━━━━━━━━┩\n",
       "│ lstm_6 (\u001b[38;5;33mLSTM\u001b[0m)                   │ (\u001b[38;5;45mNone\u001b[0m, \u001b[38;5;34m1\u001b[0m, \u001b[38;5;34m256\u001b[0m)         │       \u001b[38;5;34m787,456\u001b[0m │\n",
       "├─────────────────────────────────┼────────────────────────┼───────────────┤\n",
       "│ dropout_16 (\u001b[38;5;33mDropout\u001b[0m)            │ (\u001b[38;5;45mNone\u001b[0m, \u001b[38;5;34m1\u001b[0m, \u001b[38;5;34m256\u001b[0m)         │             \u001b[38;5;34m0\u001b[0m │\n",
       "├─────────────────────────────────┼────────────────────────┼───────────────┤\n",
       "│ lstm_7 (\u001b[38;5;33mLSTM\u001b[0m)                   │ (\u001b[38;5;45mNone\u001b[0m, \u001b[38;5;34m128\u001b[0m)            │       \u001b[38;5;34m197,120\u001b[0m │\n",
       "├─────────────────────────────────┼────────────────────────┼───────────────┤\n",
       "│ dropout_17 (\u001b[38;5;33mDropout\u001b[0m)            │ (\u001b[38;5;45mNone\u001b[0m, \u001b[38;5;34m128\u001b[0m)            │             \u001b[38;5;34m0\u001b[0m │\n",
       "├─────────────────────────────────┼────────────────────────┼───────────────┤\n",
       "│ dense_55 (\u001b[38;5;33mDense\u001b[0m)                │ (\u001b[38;5;45mNone\u001b[0m, \u001b[38;5;34m256\u001b[0m)            │        \u001b[38;5;34m33,024\u001b[0m │\n",
       "├─────────────────────────────────┼────────────────────────┼───────────────┤\n",
       "│ dense_56 (\u001b[38;5;33mDense\u001b[0m)                │ (\u001b[38;5;45mNone\u001b[0m, \u001b[38;5;34m128\u001b[0m)            │        \u001b[38;5;34m32,896\u001b[0m │\n",
       "├─────────────────────────────────┼────────────────────────┼───────────────┤\n",
       "│ dense_57 (\u001b[38;5;33mDense\u001b[0m)                │ (\u001b[38;5;45mNone\u001b[0m, \u001b[38;5;34m20\u001b[0m)             │         \u001b[38;5;34m2,580\u001b[0m │\n",
       "└─────────────────────────────────┴────────────────────────┴───────────────┘\n"
      ]
     },
     "metadata": {},
     "output_type": "display_data"
    },
    {
     "data": {
      "text/html": [
       "<pre style=\"white-space:pre;overflow-x:auto;line-height:normal;font-family:Menlo,'DejaVu Sans Mono',consolas,'Courier New',monospace\"><span style=\"font-weight: bold\"> Total params: </span><span style=\"color: #00af00; text-decoration-color: #00af00\">1,053,076</span> (4.02 MB)\n",
       "</pre>\n"
      ],
      "text/plain": [
       "\u001b[1m Total params: \u001b[0m\u001b[38;5;34m1,053,076\u001b[0m (4.02 MB)\n"
      ]
     },
     "metadata": {},
     "output_type": "display_data"
    },
    {
     "data": {
      "text/html": [
       "<pre style=\"white-space:pre;overflow-x:auto;line-height:normal;font-family:Menlo,'DejaVu Sans Mono',consolas,'Courier New',monospace\"><span style=\"font-weight: bold\"> Trainable params: </span><span style=\"color: #00af00; text-decoration-color: #00af00\">1,053,076</span> (4.02 MB)\n",
       "</pre>\n"
      ],
      "text/plain": [
       "\u001b[1m Trainable params: \u001b[0m\u001b[38;5;34m1,053,076\u001b[0m (4.02 MB)\n"
      ]
     },
     "metadata": {},
     "output_type": "display_data"
    },
    {
     "data": {
      "text/html": [
       "<pre style=\"white-space:pre;overflow-x:auto;line-height:normal;font-family:Menlo,'DejaVu Sans Mono',consolas,'Courier New',monospace\"><span style=\"font-weight: bold\"> Non-trainable params: </span><span style=\"color: #00af00; text-decoration-color: #00af00\">0</span> (0.00 B)\n",
       "</pre>\n"
      ],
      "text/plain": [
       "\u001b[1m Non-trainable params: \u001b[0m\u001b[38;5;34m0\u001b[0m (0.00 B)\n"
      ]
     },
     "metadata": {},
     "output_type": "display_data"
    }
   ],
   "source": [
    "model = tf.keras.Sequential([\n",
    "    tf.keras.layers.InputLayer(input_shape=(1, 512)),  \n",
    "    tf.keras.layers.LSTM(256, return_sequences=True),  \n",
    "    tf.keras.layers.Dropout(0.3),                      \n",
    "    tf.keras.layers.LSTM(128, return_sequences=False), \n",
    "    tf.keras.layers.Dropout(0.3),                      \n",
    "    tf.keras.layers.Dense(256, activation='relu'),    \n",
    "    tf.keras.layers.Dense(128, activation='relu'),     \n",
    "    tf.keras.layers.Dense(20, activation='softmax')  \n",
    "])\n",
    "\n",
    "model.compile(optimizer=tf.keras.optimizers.Adam(learning_rate=0.0005),  \n",
    "              loss='sparse_categorical_crossentropy', \n",
    "              metrics=['accuracy'])\n",
    "\n",
    "model.summary()\n",
    "\n",
    "\n"
   ]
  },
  {
   "cell_type": "code",
   "execution_count": 101,
   "metadata": {},
   "outputs": [
    {
     "name": "stdout",
     "output_type": "stream",
     "text": [
      "Epoch 1/30\n",
      "\u001b[1m834/834\u001b[0m \u001b[32m━━━━━━━━━━━━━━━━━━━━\u001b[0m\u001b[37m\u001b[0m \u001b[1m6s\u001b[0m 5ms/step - accuracy: 0.1929 - loss: 2.6311 - val_accuracy: 0.1997 - val_loss: 2.5736\n",
      "Epoch 2/30\n",
      "\u001b[1m834/834\u001b[0m \u001b[32m━━━━━━━━━━━━━━━━━━━━\u001b[0m\u001b[37m\u001b[0m \u001b[1m4s\u001b[0m 5ms/step - accuracy: 0.2006 - loss: 2.5628 - val_accuracy: 0.2052 - val_loss: 2.5567\n",
      "Epoch 3/30\n",
      "\u001b[1m834/834\u001b[0m \u001b[32m━━━━━━━━━━━━━━━━━━━━\u001b[0m\u001b[37m\u001b[0m \u001b[1m4s\u001b[0m 5ms/step - accuracy: 0.2036 - loss: 2.5561 - val_accuracy: 0.2038 - val_loss: 2.5524\n",
      "Epoch 4/30\n",
      "\u001b[1m834/834\u001b[0m \u001b[32m━━━━━━━━━━━━━━━━━━━━\u001b[0m\u001b[37m\u001b[0m \u001b[1m4s\u001b[0m 5ms/step - accuracy: 0.2056 - loss: 2.5526 - val_accuracy: 0.2037 - val_loss: 2.5516\n",
      "Epoch 5/30\n",
      "\u001b[1m834/834\u001b[0m \u001b[32m━━━━━━━━━━━━━━━━━━━━\u001b[0m\u001b[37m\u001b[0m \u001b[1m4s\u001b[0m 5ms/step - accuracy: 0.2036 - loss: 2.5461 - val_accuracy: 0.2072 - val_loss: 2.5464\n",
      "Epoch 6/30\n",
      "\u001b[1m834/834\u001b[0m \u001b[32m━━━━━━━━━━━━━━━━━━━━\u001b[0m\u001b[37m\u001b[0m \u001b[1m4s\u001b[0m 5ms/step - accuracy: 0.2097 - loss: 2.5440 - val_accuracy: 0.2082 - val_loss: 2.5434\n",
      "Epoch 7/30\n",
      "\u001b[1m834/834\u001b[0m \u001b[32m━━━━━━━━━━━━━━━━━━━━\u001b[0m\u001b[37m\u001b[0m \u001b[1m4s\u001b[0m 5ms/step - accuracy: 0.2097 - loss: 2.5385 - val_accuracy: 0.2109 - val_loss: 2.5403\n",
      "Epoch 8/30\n",
      "\u001b[1m834/834\u001b[0m \u001b[32m━━━━━━━━━━━━━━━━━━━━\u001b[0m\u001b[37m\u001b[0m \u001b[1m4s\u001b[0m 5ms/step - accuracy: 0.2152 - loss: 2.5357 - val_accuracy: 0.2115 - val_loss: 2.5403\n",
      "Epoch 9/30\n",
      "\u001b[1m834/834\u001b[0m \u001b[32m━━━━━━━━━━━━━━━━━━━━\u001b[0m\u001b[37m\u001b[0m \u001b[1m4s\u001b[0m 5ms/step - accuracy: 0.2162 - loss: 2.5309 - val_accuracy: 0.2103 - val_loss: 2.5366\n",
      "Epoch 10/30\n",
      "\u001b[1m834/834\u001b[0m \u001b[32m━━━━━━━━━━━━━━━━━━━━\u001b[0m\u001b[37m\u001b[0m \u001b[1m4s\u001b[0m 5ms/step - accuracy: 0.2172 - loss: 2.5280 - val_accuracy: 0.2125 - val_loss: 2.5349\n",
      "Epoch 11/30\n",
      "\u001b[1m834/834\u001b[0m \u001b[32m━━━━━━━━━━━━━━━━━━━━\u001b[0m\u001b[37m\u001b[0m \u001b[1m4s\u001b[0m 5ms/step - accuracy: 0.2159 - loss: 2.5289 - val_accuracy: 0.2125 - val_loss: 2.5322\n",
      "Epoch 12/30\n",
      "\u001b[1m834/834\u001b[0m \u001b[32m━━━━━━━━━━━━━━━━━━━━\u001b[0m\u001b[37m\u001b[0m \u001b[1m4s\u001b[0m 5ms/step - accuracy: 0.2159 - loss: 2.5246 - val_accuracy: 0.2124 - val_loss: 2.5339\n",
      "Epoch 13/30\n",
      "\u001b[1m834/834\u001b[0m \u001b[32m━━━━━━━━━━━━━━━━━━━━\u001b[0m\u001b[37m\u001b[0m \u001b[1m4s\u001b[0m 5ms/step - accuracy: 0.2148 - loss: 2.5301 - val_accuracy: 0.2143 - val_loss: 2.5354\n",
      "Epoch 14/30\n",
      "\u001b[1m834/834\u001b[0m \u001b[32m━━━━━━━━━━━━━━━━━━━━\u001b[0m\u001b[37m\u001b[0m \u001b[1m4s\u001b[0m 5ms/step - accuracy: 0.2209 - loss: 2.5239 - val_accuracy: 0.2118 - val_loss: 2.5310\n",
      "Epoch 15/30\n",
      "\u001b[1m834/834\u001b[0m \u001b[32m━━━━━━━━━━━━━━━━━━━━\u001b[0m\u001b[37m\u001b[0m \u001b[1m4s\u001b[0m 5ms/step - accuracy: 0.2185 - loss: 2.5207 - val_accuracy: 0.2128 - val_loss: 2.5309\n",
      "Epoch 16/30\n",
      "\u001b[1m834/834\u001b[0m \u001b[32m━━━━━━━━━━━━━━━━━━━━\u001b[0m\u001b[37m\u001b[0m \u001b[1m5s\u001b[0m 5ms/step - accuracy: 0.2178 - loss: 2.5171 - val_accuracy: 0.2151 - val_loss: 2.5299\n",
      "Epoch 17/30\n",
      "\u001b[1m834/834\u001b[0m \u001b[32m━━━━━━━━━━━━━━━━━━━━\u001b[0m\u001b[37m\u001b[0m \u001b[1m5s\u001b[0m 6ms/step - accuracy: 0.2168 - loss: 2.5194 - val_accuracy: 0.2159 - val_loss: 2.5295\n",
      "Epoch 18/30\n",
      "\u001b[1m834/834\u001b[0m \u001b[32m━━━━━━━━━━━━━━━━━━━━\u001b[0m\u001b[37m\u001b[0m \u001b[1m5s\u001b[0m 6ms/step - accuracy: 0.2201 - loss: 2.5140 - val_accuracy: 0.2133 - val_loss: 2.5289\n",
      "Epoch 19/30\n",
      "\u001b[1m834/834\u001b[0m \u001b[32m━━━━━━━━━━━━━━━━━━━━\u001b[0m\u001b[37m\u001b[0m \u001b[1m4s\u001b[0m 5ms/step - accuracy: 0.2187 - loss: 2.5118 - val_accuracy: 0.2140 - val_loss: 2.5283\n",
      "Epoch 20/30\n",
      "\u001b[1m834/834\u001b[0m \u001b[32m━━━━━━━━━━━━━━━━━━━━\u001b[0m\u001b[37m\u001b[0m \u001b[1m5s\u001b[0m 5ms/step - accuracy: 0.2214 - loss: 2.5078 - val_accuracy: 0.2143 - val_loss: 2.5333\n",
      "Epoch 21/30\n",
      "\u001b[1m834/834\u001b[0m \u001b[32m━━━━━━━━━━━━━━━━━━━━\u001b[0m\u001b[37m\u001b[0m \u001b[1m5s\u001b[0m 6ms/step - accuracy: 0.2237 - loss: 2.5123 - val_accuracy: 0.2144 - val_loss: 2.5291\n",
      "Epoch 22/30\n",
      "\u001b[1m834/834\u001b[0m \u001b[32m━━━━━━━━━━━━━━━━━━━━\u001b[0m\u001b[37m\u001b[0m \u001b[1m4s\u001b[0m 5ms/step - accuracy: 0.2207 - loss: 2.5078 - val_accuracy: 0.2142 - val_loss: 2.5295\n",
      "Epoch 23/30\n",
      "\u001b[1m834/834\u001b[0m \u001b[32m━━━━━━━━━━━━━━━━━━━━\u001b[0m\u001b[37m\u001b[0m \u001b[1m4s\u001b[0m 5ms/step - accuracy: 0.2221 - loss: 2.5012 - val_accuracy: 0.2134 - val_loss: 2.5299\n",
      "Epoch 24/30\n",
      "\u001b[1m834/834\u001b[0m \u001b[32m━━━━━━━━━━━━━━━━━━━━\u001b[0m\u001b[37m\u001b[0m \u001b[1m4s\u001b[0m 5ms/step - accuracy: 0.2185 - loss: 2.5090 - val_accuracy: 0.2171 - val_loss: 2.5340\n"
     ]
    }
   ],
   "source": [
    "history = model.fit(X_train_embeddings, y_train, \n",
    "                    validation_data=(X_val_embeddings, y_val), \n",
    "                    epochs=30,                        \n",
    "                    batch_size=64,                        \n",
    "                    callbacks=[tf.keras.callbacks.EarlyStopping(monitor='val_loss', patience=5)])  "
   ]
  },
  {
   "cell_type": "code",
   "execution_count": 102,
   "metadata": {},
   "outputs": [
    {
     "name": "stdout",
     "output_type": "stream",
     "text": [
      "\u001b[1m417/417\u001b[0m \u001b[32m━━━━━━━━━━━━━━━━━━━━\u001b[0m\u001b[37m\u001b[0m \u001b[1m1s\u001b[0m 1ms/step - accuracy: 0.2132 - loss: 2.5371\n",
      "Validation Accuracy: 0.217087984085083\n"
     ]
    }
   ],
   "source": [
    "# Evaluate the model\n",
    "val_loss, val_accuracy = model.evaluate(X_val_embeddings, y_val)\n",
    "print(f'Validation Accuracy: {val_accuracy}')"
   ]
  },
  {
   "cell_type": "code",
   "execution_count": 103,
   "metadata": {},
   "outputs": [
    {
     "data": {
      "text/plain": [
       "(5157, 2)"
      ]
     },
     "execution_count": 103,
     "metadata": {},
     "output_type": "execute_result"
    }
   ],
   "source": [
    "test.shape"
   ]
  },
  {
   "cell_type": "code",
   "execution_count": 104,
   "metadata": {},
   "outputs": [
    {
     "data": {
      "text/html": [
       "<div>\n",
       "<style scoped>\n",
       "    .dataframe tbody tr th:only-of-type {\n",
       "        vertical-align: middle;\n",
       "    }\n",
       "\n",
       "    .dataframe tbody tr th {\n",
       "        vertical-align: top;\n",
       "    }\n",
       "\n",
       "    .dataframe thead th {\n",
       "        text-align: right;\n",
       "    }\n",
       "</style>\n",
       "<table border=\"1\" class=\"dataframe\">\n",
       "  <thead>\n",
       "    <tr style=\"text-align: right;\">\n",
       "      <th></th>\n",
       "      <th>call_id</th>\n",
       "      <th>call_transcript</th>\n",
       "    </tr>\n",
       "  </thead>\n",
       "  <tbody>\n",
       "    <tr>\n",
       "      <th>0</th>\n",
       "      <td>7732610078</td>\n",
       "      <td>\\n\\nAgent: Thank you for calling United Airlin...</td>\n",
       "    </tr>\n",
       "    <tr>\n",
       "      <th>1</th>\n",
       "      <td>2400299738</td>\n",
       "      <td>\\n\\nAgent: Thank you for calling United Airlin...</td>\n",
       "    </tr>\n",
       "    <tr>\n",
       "      <th>2</th>\n",
       "      <td>6533095063</td>\n",
       "      <td>\\n\\nAgent: Thank you for calling United Airlin...</td>\n",
       "    </tr>\n",
       "    <tr>\n",
       "      <th>3</th>\n",
       "      <td>7774450920</td>\n",
       "      <td>\\n\\nAgent: Thank you for calling United Airlin...</td>\n",
       "    </tr>\n",
       "    <tr>\n",
       "      <th>4</th>\n",
       "      <td>9214147168</td>\n",
       "      <td>\\n\\nAgent: Thank you for calling United Airlin...</td>\n",
       "    </tr>\n",
       "  </tbody>\n",
       "</table>\n",
       "</div>"
      ],
      "text/plain": [
       "      call_id                                    call_transcript\n",
       "0  7732610078  \\n\\nAgent: Thank you for calling United Airlin...\n",
       "1  2400299738  \\n\\nAgent: Thank you for calling United Airlin...\n",
       "2  6533095063  \\n\\nAgent: Thank you for calling United Airlin...\n",
       "3  7774450920  \\n\\nAgent: Thank you for calling United Airlin...\n",
       "4  9214147168  \\n\\nAgent: Thank you for calling United Airlin..."
      ]
     },
     "execution_count": 104,
     "metadata": {},
     "output_type": "execute_result"
    }
   ],
   "source": [
    "test.head()"
   ]
  },
  {
   "cell_type": "code",
   "execution_count": 106,
   "metadata": {},
   "outputs": [
    {
     "name": "stdout",
     "output_type": "stream",
     "text": [
      "\u001b[1m162/162\u001b[0m \u001b[32m━━━━━━━━━━━━━━━━━━━━\u001b[0m\u001b[37m\u001b[0m \u001b[1m0s\u001b[0m 2ms/step\n",
      "      call_id  predicted_primary_call_reason\n",
      "0  7732610078                              8\n",
      "1  2400299738                              8\n",
      "2  6533095063                              8\n",
      "3  7774450920                              8\n",
      "4  9214147168                              8\n"
     ]
    }
   ],
   "source": [
    "import tensorflow_hub as hub\n",
    "import numpy as np\n",
    "import pandas as pd\n",
    "import re\n",
    "from nltk.corpus import stopwords\n",
    "\n",
    "stop_words = set(stopwords.words('english'))\n",
    "\n",
    "def preprocess_transcripts(transcripts):\n",
    "    processed_transcripts = []\n",
    "    for transcript in transcripts:\n",
    "        words = re.findall(r'\\b\\w+\\b', transcript)\n",
    "        filtered_words = [word for word in words if word.lower() not in stop_words]\n",
    "        truncated_words = filtered_words[:50]\n",
    "        processed_transcripts.append(' '.join(truncated_words))\n",
    "    return processed_transcripts\n",
    "\n",
    "test_transcripts = preprocess_transcripts(test['call_transcript'])\n",
    "\n",
    "embed = hub.load(\"https://tfhub.dev/google/universal-sentence-encoder/4\")\n",
    "\n",
    "def embed_in_batches(data, batch_size=32):\n",
    "    embeddings = []\n",
    "    for i in range(0, len(data), batch_size):\n",
    "        batch = data[i:i + batch_size]\n",
    "        batch_embeddings = embed(batch)\n",
    "        embeddings.append(batch_embeddings)\n",
    "    return np.concatenate(embeddings)\n",
    "\n",
    "X_test_embeddings = embed_in_batches(test_transcripts)\n",
    "\n",
    "X_test_embeddings = np.expand_dims(X_test_embeddings, axis=1)  \n",
    "\n",
    "predictions = model.predict(X_test_embeddings)\n",
    "predicted_primary_call_reason = np.argmax(predictions, axis=1)\n",
    "test['predicted_primary_call_reason'] = predicted_primary_call_reason\n",
    "\n",
    "print(test[['call_id', 'predicted_primary_call_reason']].head())\n"
   ]
  },
  {
   "cell_type": "code",
   "execution_count": 107,
   "metadata": {},
   "outputs": [],
   "source": [
    "predicted_call_types = label_encoder.inverse_transform(predicted_primary_call_reason)\n",
    "\n",
    "predictions_df = pd.DataFrame({\n",
    "    'call_id': test['call_id'],\n",
    "    'primary_call_reason': predicted_call_types\n",
    "})\n"
   ]
  },
  {
   "cell_type": "code",
   "execution_count": 108,
   "metadata": {},
   "outputs": [
    {
     "data": {
      "text/html": [
       "<div>\n",
       "<style scoped>\n",
       "    .dataframe tbody tr th:only-of-type {\n",
       "        vertical-align: middle;\n",
       "    }\n",
       "\n",
       "    .dataframe tbody tr th {\n",
       "        vertical-align: top;\n",
       "    }\n",
       "\n",
       "    .dataframe thead th {\n",
       "        text-align: right;\n",
       "    }\n",
       "</style>\n",
       "<table border=\"1\" class=\"dataframe\">\n",
       "  <thead>\n",
       "    <tr style=\"text-align: right;\">\n",
       "      <th></th>\n",
       "      <th>call_id</th>\n",
       "      <th>primary_call_reason</th>\n",
       "    </tr>\n",
       "  </thead>\n",
       "  <tbody>\n",
       "    <tr>\n",
       "      <th>0</th>\n",
       "      <td>7732610078</td>\n",
       "      <td>IRROPS</td>\n",
       "    </tr>\n",
       "    <tr>\n",
       "      <th>1</th>\n",
       "      <td>2400299738</td>\n",
       "      <td>IRROPS</td>\n",
       "    </tr>\n",
       "    <tr>\n",
       "      <th>2</th>\n",
       "      <td>6533095063</td>\n",
       "      <td>IRROPS</td>\n",
       "    </tr>\n",
       "    <tr>\n",
       "      <th>3</th>\n",
       "      <td>7774450920</td>\n",
       "      <td>IRROPS</td>\n",
       "    </tr>\n",
       "    <tr>\n",
       "      <th>4</th>\n",
       "      <td>9214147168</td>\n",
       "      <td>IRROPS</td>\n",
       "    </tr>\n",
       "    <tr>\n",
       "      <th>5</th>\n",
       "      <td>2931134074</td>\n",
       "      <td>Voluntary Change</td>\n",
       "    </tr>\n",
       "    <tr>\n",
       "      <th>6</th>\n",
       "      <td>2010588624</td>\n",
       "      <td>IRROPS</td>\n",
       "    </tr>\n",
       "    <tr>\n",
       "      <th>7</th>\n",
       "      <td>6611494442</td>\n",
       "      <td>Voluntary Change</td>\n",
       "    </tr>\n",
       "    <tr>\n",
       "      <th>8</th>\n",
       "      <td>8655666048</td>\n",
       "      <td>IRROPS</td>\n",
       "    </tr>\n",
       "    <tr>\n",
       "      <th>9</th>\n",
       "      <td>3564872843</td>\n",
       "      <td>IRROPS</td>\n",
       "    </tr>\n",
       "    <tr>\n",
       "      <th>10</th>\n",
       "      <td>6581088938</td>\n",
       "      <td>IRROPS</td>\n",
       "    </tr>\n",
       "    <tr>\n",
       "      <th>11</th>\n",
       "      <td>2890018342</td>\n",
       "      <td>IRROPS</td>\n",
       "    </tr>\n",
       "    <tr>\n",
       "      <th>12</th>\n",
       "      <td>7765452553</td>\n",
       "      <td>IRROPS</td>\n",
       "    </tr>\n",
       "    <tr>\n",
       "      <th>13</th>\n",
       "      <td>7769577839</td>\n",
       "      <td>IRROPS</td>\n",
       "    </tr>\n",
       "    <tr>\n",
       "      <th>14</th>\n",
       "      <td>767542571</td>\n",
       "      <td>IRROPS</td>\n",
       "    </tr>\n",
       "    <tr>\n",
       "      <th>15</th>\n",
       "      <td>2321172423</td>\n",
       "      <td>Voluntary Change</td>\n",
       "    </tr>\n",
       "    <tr>\n",
       "      <th>16</th>\n",
       "      <td>7062397166</td>\n",
       "      <td>Voluntary Change</td>\n",
       "    </tr>\n",
       "    <tr>\n",
       "      <th>17</th>\n",
       "      <td>3324493822</td>\n",
       "      <td>IRROPS</td>\n",
       "    </tr>\n",
       "    <tr>\n",
       "      <th>18</th>\n",
       "      <td>571689194</td>\n",
       "      <td>IRROPS</td>\n",
       "    </tr>\n",
       "    <tr>\n",
       "      <th>19</th>\n",
       "      <td>7464282955</td>\n",
       "      <td>IRROPS</td>\n",
       "    </tr>\n",
       "  </tbody>\n",
       "</table>\n",
       "</div>"
      ],
      "text/plain": [
       "       call_id primary_call_reason\n",
       "0   7732610078              IRROPS\n",
       "1   2400299738              IRROPS\n",
       "2   6533095063              IRROPS\n",
       "3   7774450920              IRROPS\n",
       "4   9214147168              IRROPS\n",
       "5   2931134074    Voluntary Change\n",
       "6   2010588624              IRROPS\n",
       "7   6611494442    Voluntary Change\n",
       "8   8655666048              IRROPS\n",
       "9   3564872843              IRROPS\n",
       "10  6581088938              IRROPS\n",
       "11  2890018342              IRROPS\n",
       "12  7765452553              IRROPS\n",
       "13  7769577839              IRROPS\n",
       "14   767542571              IRROPS\n",
       "15  2321172423    Voluntary Change\n",
       "16  7062397166    Voluntary Change\n",
       "17  3324493822              IRROPS\n",
       "18   571689194              IRROPS\n",
       "19  7464282955              IRROPS"
      ]
     },
     "execution_count": 108,
     "metadata": {},
     "output_type": "execute_result"
    }
   ],
   "source": [
    "predictions_df.head(20)"
   ]
  },
  {
   "cell_type": "code",
   "execution_count": 109,
   "metadata": {},
   "outputs": [],
   "source": [
    "predictions_df.to_csv('test_ChanduChampion.csv', index=False)"
   ]
  },
  {
   "cell_type": "code",
   "execution_count": null,
   "metadata": {},
   "outputs": [],
   "source": []
  }
 ],
 "metadata": {
  "kernelspec": {
   "display_name": "myvenv",
   "language": "python",
   "name": "python3"
  },
  "language_info": {
   "codemirror_mode": {
    "name": "ipython",
    "version": 3
   },
   "file_extension": ".py",
   "mimetype": "text/x-python",
   "name": "python",
   "nbconvert_exporter": "python",
   "pygments_lexer": "ipython3",
   "version": "3.10.11"
  }
 },
 "nbformat": 4,
 "nbformat_minor": 2
}
